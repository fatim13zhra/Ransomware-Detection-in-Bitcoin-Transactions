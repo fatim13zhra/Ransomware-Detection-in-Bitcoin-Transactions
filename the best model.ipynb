{
 "cells": [
  {
   "cell_type": "markdown",
   "id": "cfdceaf6",
   "metadata": {},
   "source": [
    "# for the prediction app we prefered working with XGBoost based on its performance metrics"
   ]
  },
  {
   "cell_type": "code",
   "execution_count": 1,
   "id": "2881ea94",
   "metadata": {},
   "outputs": [],
   "source": [
    "#Importing libraries\n",
    "import pandas as pd\n",
    "import numpy as np\n",
    "import matplotlib.pyplot as plt\n",
    "import seaborn as sns\n",
    "from sklearn.model_selection import train_test_split\n",
    "from sklearn.metrics import accuracy_score, classification_report, confusion_matrix\n",
    "from sklearn.metrics import precision_score, recall_score, f1_score\n",
    "from sklearn.preprocessing import LabelEncoder\n",
    "from sklearn.preprocessing import StandardScaler"
   ]
  },
  {
   "cell_type": "code",
   "execution_count": 2,
   "id": "d0d2695b",
   "metadata": {},
   "outputs": [],
   "source": [
    "df = pd.read_csv(\"Cleaned_data.csv\")\n",
    "label_encoder = LabelEncoder()\n",
    "\n",
    "df['label'] = label_encoder.fit_transform(df['label'])\n",
    "\n",
    "df['label'] = df['label'].apply(lambda x: 0 if x == label_encoder.transform(['white'])[0] else 1)\n",
    "X=df.drop(\"label\",axis=1)\n",
    "y=(df[\"label\"]>0).astype('int')\n",
    "from sklearn.model_selection import train_test_split\n",
    "X_train, X_test,y_train, y_test = train_test_split(X,y ,\n",
    "                                   random_state=42,\n",
    "                                   test_size=0.2,\n",
    "                                   shuffle=True)\n",
    "\n",
    "scaler=StandardScaler()\n",
    "scaler.fit(X_train)\n",
    "X_train_scaled=scaler.transform(X_train)\n",
    "X_test_scaled=scaler.transform(X_test)"
   ]
  },
  {
   "cell_type": "code",
   "execution_count": 3,
   "id": "3e6cf2b5",
   "metadata": {},
   "outputs": [],
   "source": [
    "from xgboost import XGBClassifier\n",
    "from sklearn.model_selection import cross_val_score, GridSearchCV\n",
    "from sklearn.pipeline import make_pipeline"
   ]
  },
  {
   "cell_type": "code",
   "execution_count": 4,
   "id": "9f89e9ca",
   "metadata": {},
   "outputs": [],
   "source": [
    "\n",
    "# XGBoost\n",
    "xgb_classifier = XGBClassifier()\n",
    "xgb_params = {'n_estimators': [50, 100, 200], 'learning_rate': [0.01, 0.1, 0.2]}\n",
    "xgb_grid = GridSearchCV(xgb_classifier, xgb_params, cv=5)\n",
    "xgb_grid.fit(X_train, y_train)\n",
    "xgb_pred = xgb_grid.predict(X_test)"
   ]
  },
  {
   "cell_type": "code",
   "execution_count": 5,
   "id": "fab04990",
   "metadata": {},
   "outputs": [
    {
     "name": "stdout",
     "output_type": "stream",
     "text": [
      "XGBoost:\n",
      "Accuracy: 0.8978630930822166\n",
      "Classification Report:\n",
      "              precision    recall  f1-score   support\n",
      "\n",
      "           0       0.91      0.88      0.90      8290\n",
      "           1       0.88      0.92      0.90      8276\n",
      "\n",
      "    accuracy                           0.90     16566\n",
      "   macro avg       0.90      0.90      0.90     16566\n",
      "weighted avg       0.90      0.90      0.90     16566\n",
      "\n",
      "Confusion Matrix:\n",
      "[[7277 1013]\n",
      " [ 679 7597]]\n"
     ]
    }
   ],
   "source": [
    "# Evaluate XGBoost\n",
    "print(\"XGBoost:\")\n",
    "print(f'Accuracy: {accuracy_score(y_test, xgb_pred)}')\n",
    "print(f'Classification Report:\\n{classification_report(y_test, xgb_pred)}')\n",
    "print(f'Confusion Matrix:\\n{confusion_matrix(y_test, xgb_pred)}')"
   ]
  },
  {
   "cell_type": "markdown",
   "id": "dd82bfd3",
   "metadata": {},
   "source": [
    "# Saving the model"
   ]
  },
  {
   "cell_type": "code",
   "execution_count": 6,
   "id": "7da1feae",
   "metadata": {},
   "outputs": [],
   "source": [
    "#pip install joblib"
   ]
  },
  {
   "cell_type": "code",
   "execution_count": 8,
   "id": "ae42d44a",
   "metadata": {},
   "outputs": [
    {
     "data": {
      "text/plain": [
       "['xgboost_model.pkl']"
      ]
     },
     "execution_count": 8,
     "metadata": {},
     "output_type": "execute_result"
    }
   ],
   "source": [
    "from xgboost import XGBClassifier\n",
    "import joblib\n",
    "\n",
    "joblib.dump(xgb_grid, 'xgboost_model.pkl')"
   ]
  },
  {
   "cell_type": "code",
   "execution_count": null,
   "id": "44844168",
   "metadata": {},
   "outputs": [],
   "source": []
  }
 ],
 "metadata": {
  "kernelspec": {
   "display_name": "Python 3 (ipykernel)",
   "language": "python",
   "name": "python3"
  },
  "language_info": {
   "codemirror_mode": {
    "name": "ipython",
    "version": 3
   },
   "file_extension": ".py",
   "mimetype": "text/x-python",
   "name": "python",
   "nbconvert_exporter": "python",
   "pygments_lexer": "ipython3",
   "version": "3.9.13"
  }
 },
 "nbformat": 4,
 "nbformat_minor": 5
}
