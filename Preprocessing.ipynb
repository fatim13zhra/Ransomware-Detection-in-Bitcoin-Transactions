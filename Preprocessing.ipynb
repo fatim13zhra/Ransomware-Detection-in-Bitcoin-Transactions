{
 "cells": [
  {
   "cell_type": "code",
   "execution_count": 3,
   "id": "79318c32",
   "metadata": {
    "id": "79318c32"
   },
   "outputs": [],
   "source": [
    "#Importing libraries\n",
    "import pandas as pd\n",
    "import numpy as np\n",
    "import matplotlib.pyplot as plt\n",
    "import seaborn as sns"
   ]
  },
  {
   "cell_type": "code",
   "execution_count": 5,
   "id": "39d199f3",
   "metadata": {
    "colab": {
     "base_uri": "https://localhost:8080/",
     "height": 423
    },
    "id": "39d199f3",
    "outputId": "899a3bca-4af8-4c43-bbc0-e2b76dbeb39d"
   },
   "outputs": [],
   "source": [
    "#Charging the dataset\n",
    "df = pd.read_csv(\"BitcoinHeistData.csv\")"
   ]
  },
  {
   "cell_type": "code",
   "execution_count": 6,
   "id": "d0876174",
   "metadata": {},
   "outputs": [
    {
     "data": {
      "text/html": [
       "<div>\n",
       "<style scoped>\n",
       "    .dataframe tbody tr th:only-of-type {\n",
       "        vertical-align: middle;\n",
       "    }\n",
       "\n",
       "    .dataframe tbody tr th {\n",
       "        vertical-align: top;\n",
       "    }\n",
       "\n",
       "    .dataframe thead th {\n",
       "        text-align: right;\n",
       "    }\n",
       "</style>\n",
       "<table border=\"1\" class=\"dataframe\">\n",
       "  <thead>\n",
       "    <tr style=\"text-align: right;\">\n",
       "      <th></th>\n",
       "      <th>address</th>\n",
       "      <th>year</th>\n",
       "      <th>day</th>\n",
       "      <th>length</th>\n",
       "      <th>weight</th>\n",
       "      <th>count</th>\n",
       "      <th>looped</th>\n",
       "      <th>neighbors</th>\n",
       "      <th>income</th>\n",
       "      <th>label</th>\n",
       "    </tr>\n",
       "  </thead>\n",
       "  <tbody>\n",
       "    <tr>\n",
       "      <th>0</th>\n",
       "      <td>111K8kZAEnJg245r2cM6y9zgJGHZtJPy6</td>\n",
       "      <td>2017</td>\n",
       "      <td>11</td>\n",
       "      <td>18</td>\n",
       "      <td>0.008333</td>\n",
       "      <td>1</td>\n",
       "      <td>0</td>\n",
       "      <td>2</td>\n",
       "      <td>100050000.0</td>\n",
       "      <td>princetonCerber</td>\n",
       "    </tr>\n",
       "    <tr>\n",
       "      <th>1</th>\n",
       "      <td>1123pJv8jzeFQaCV4w644pzQJzVWay2zcA</td>\n",
       "      <td>2016</td>\n",
       "      <td>132</td>\n",
       "      <td>44</td>\n",
       "      <td>0.000244</td>\n",
       "      <td>1</td>\n",
       "      <td>0</td>\n",
       "      <td>1</td>\n",
       "      <td>100000000.0</td>\n",
       "      <td>princetonLocky</td>\n",
       "    </tr>\n",
       "    <tr>\n",
       "      <th>2</th>\n",
       "      <td>112536im7hy6wtKbpH1qYDWtTyMRAcA2p7</td>\n",
       "      <td>2016</td>\n",
       "      <td>246</td>\n",
       "      <td>0</td>\n",
       "      <td>1.000000</td>\n",
       "      <td>1</td>\n",
       "      <td>0</td>\n",
       "      <td>2</td>\n",
       "      <td>200000000.0</td>\n",
       "      <td>princetonCerber</td>\n",
       "    </tr>\n",
       "    <tr>\n",
       "      <th>3</th>\n",
       "      <td>1126eDRw2wqSkWosjTCre8cjjQW8sSeWH7</td>\n",
       "      <td>2016</td>\n",
       "      <td>322</td>\n",
       "      <td>72</td>\n",
       "      <td>0.003906</td>\n",
       "      <td>1</td>\n",
       "      <td>0</td>\n",
       "      <td>2</td>\n",
       "      <td>71200000.0</td>\n",
       "      <td>princetonCerber</td>\n",
       "    </tr>\n",
       "    <tr>\n",
       "      <th>4</th>\n",
       "      <td>1129TSjKtx65E35GiUo4AYVeyo48twbrGX</td>\n",
       "      <td>2016</td>\n",
       "      <td>238</td>\n",
       "      <td>144</td>\n",
       "      <td>0.072848</td>\n",
       "      <td>456</td>\n",
       "      <td>0</td>\n",
       "      <td>1</td>\n",
       "      <td>200000000.0</td>\n",
       "      <td>princetonLocky</td>\n",
       "    </tr>\n",
       "  </tbody>\n",
       "</table>\n",
       "</div>"
      ],
      "text/plain": [
       "                              address  year  day  length    weight  count  \\\n",
       "0   111K8kZAEnJg245r2cM6y9zgJGHZtJPy6  2017   11      18  0.008333      1   \n",
       "1  1123pJv8jzeFQaCV4w644pzQJzVWay2zcA  2016  132      44  0.000244      1   \n",
       "2  112536im7hy6wtKbpH1qYDWtTyMRAcA2p7  2016  246       0  1.000000      1   \n",
       "3  1126eDRw2wqSkWosjTCre8cjjQW8sSeWH7  2016  322      72  0.003906      1   \n",
       "4  1129TSjKtx65E35GiUo4AYVeyo48twbrGX  2016  238     144  0.072848    456   \n",
       "\n",
       "   looped  neighbors       income            label  \n",
       "0       0          2  100050000.0  princetonCerber  \n",
       "1       0          1  100000000.0   princetonLocky  \n",
       "2       0          2  200000000.0  princetonCerber  \n",
       "3       0          2   71200000.0  princetonCerber  \n",
       "4       0          1  200000000.0   princetonLocky  "
      ]
     },
     "execution_count": 6,
     "metadata": {},
     "output_type": "execute_result"
    }
   ],
   "source": [
    "df.head()"
   ]
  },
  {
   "cell_type": "code",
   "execution_count": 7,
   "id": "9344870f",
   "metadata": {
    "colab": {
     "base_uri": "https://localhost:8080/"
    },
    "id": "9344870f",
    "outputId": "1317ae3c-18f9-4272-a279-72ba36d5c8f9"
   },
   "outputs": [
    {
     "data": {
      "text/plain": [
       "Index(['address', 'year', 'day', 'length', 'weight', 'count', 'looped',\n",
       "       'neighbors', 'income', 'label'],\n",
       "      dtype='object')"
      ]
     },
     "execution_count": 7,
     "metadata": {},
     "output_type": "execute_result"
    }
   ],
   "source": [
    "#Dataset columns\n",
    "df.columns"
   ]
  },
  {
   "cell_type": "code",
   "execution_count": 8,
   "id": "6cTQUhG1vMl9",
   "metadata": {
    "colab": {
     "base_uri": "https://localhost:8080/"
    },
    "id": "6cTQUhG1vMl9",
    "outputId": "4d47acbd-28ad-4609-e600-9af568946004"
   },
   "outputs": [
    {
     "data": {
      "text/plain": [
       "(2916697, 10)"
      ]
     },
     "execution_count": 8,
     "metadata": {},
     "output_type": "execute_result"
    }
   ],
   "source": [
    "#Dimensions of the dataset\n",
    "df.shape"
   ]
  },
  {
   "cell_type": "code",
   "execution_count": 9,
   "id": "7Hi3Wot2o69R",
   "metadata": {
    "colab": {
     "base_uri": "https://localhost:8080/"
    },
    "id": "7Hi3Wot2o69R",
    "outputId": "a615b514-b553-449d-cb4b-1f7bbe208607"
   },
   "outputs": [
    {
     "data": {
      "text/plain": [
       "0          princetonCerber\n",
       "1           princetonLocky\n",
       "2          princetonCerber\n",
       "3          princetonCerber\n",
       "4           princetonLocky\n",
       "                ...       \n",
       "2916692              white\n",
       "2916693              white\n",
       "2916694              white\n",
       "2916695              white\n",
       "2916696              white\n",
       "Name: label, Length: 2916697, dtype: object"
      ]
     },
     "execution_count": 9,
     "metadata": {},
     "output_type": "execute_result"
    }
   ],
   "source": [
    "#Target column\n",
    "df.label"
   ]
  },
  {
   "cell_type": "code",
   "execution_count": 10,
   "id": "ae607453",
   "metadata": {
    "colab": {
     "base_uri": "https://localhost:8080/"
    },
    "id": "ae607453",
    "outputId": "c181b117-0aa9-4c7f-a844-f1c1af6d19f5"
   },
   "outputs": [
    {
     "data": {
      "text/plain": [
       "array(['princetonCerber', 'princetonLocky', 'montrealCryptoLocker',\n",
       "       'montrealCryptXXX', 'paduaCryptoWall', 'montrealWannaCry',\n",
       "       'montrealDMALockerv3', 'montrealCryptoTorLocker2015',\n",
       "       'montrealSamSam', 'montrealFlyper', 'montrealNoobCrypt',\n",
       "       'montrealDMALocker', 'montrealGlobe', 'montrealEDA2',\n",
       "       'paduaKeRanger', 'montrealVenusLocker', 'montrealXTPLocker',\n",
       "       'paduaJigsaw', 'montrealGlobev3', 'montrealJigSaw',\n",
       "       'montrealXLockerv5.0', 'montrealXLocker', 'montrealRazy',\n",
       "       'montrealCryptConsole', 'montrealGlobeImposter', 'montrealSam',\n",
       "       'montrealComradeCircle', 'montrealAPT', 'white'], dtype=object)"
      ]
     },
     "execution_count": 10,
     "metadata": {},
     "output_type": "execute_result"
    }
   ],
   "source": [
    "#All our target values\n",
    "df[\"label\"].unique()"
   ]
  },
  {
   "cell_type": "code",
   "execution_count": 12,
   "id": "a991f492",
   "metadata": {
    "colab": {
     "base_uri": "https://localhost:8080/",
     "height": 300
    },
    "id": "a991f492",
    "outputId": "64de52e4-c05e-4778-8a69-e3a4483b6523"
   },
   "outputs": [
    {
     "data": {
      "text/html": [
       "<div>\n",
       "<style scoped>\n",
       "    .dataframe tbody tr th:only-of-type {\n",
       "        vertical-align: middle;\n",
       "    }\n",
       "\n",
       "    .dataframe tbody tr th {\n",
       "        vertical-align: top;\n",
       "    }\n",
       "\n",
       "    .dataframe thead th {\n",
       "        text-align: right;\n",
       "    }\n",
       "</style>\n",
       "<table border=\"1\" class=\"dataframe\">\n",
       "  <thead>\n",
       "    <tr style=\"text-align: right;\">\n",
       "      <th></th>\n",
       "      <th>year</th>\n",
       "      <th>day</th>\n",
       "      <th>length</th>\n",
       "      <th>weight</th>\n",
       "      <th>count</th>\n",
       "      <th>looped</th>\n",
       "      <th>neighbors</th>\n",
       "      <th>income</th>\n",
       "    </tr>\n",
       "  </thead>\n",
       "  <tbody>\n",
       "    <tr>\n",
       "      <th>count</th>\n",
       "      <td>2.916697e+06</td>\n",
       "      <td>2.916697e+06</td>\n",
       "      <td>2.916697e+06</td>\n",
       "      <td>2.916697e+06</td>\n",
       "      <td>2.916697e+06</td>\n",
       "      <td>2.916697e+06</td>\n",
       "      <td>2.916697e+06</td>\n",
       "      <td>2.916697e+06</td>\n",
       "    </tr>\n",
       "    <tr>\n",
       "      <th>mean</th>\n",
       "      <td>2.014475e+03</td>\n",
       "      <td>1.814572e+02</td>\n",
       "      <td>4.500859e+01</td>\n",
       "      <td>5.455192e-01</td>\n",
       "      <td>7.216446e+02</td>\n",
       "      <td>2.385067e+02</td>\n",
       "      <td>2.206516e+00</td>\n",
       "      <td>4.464889e+09</td>\n",
       "    </tr>\n",
       "    <tr>\n",
       "      <th>std</th>\n",
       "      <td>2.257398e+00</td>\n",
       "      <td>1.040118e+02</td>\n",
       "      <td>5.898236e+01</td>\n",
       "      <td>3.674255e+00</td>\n",
       "      <td>1.689676e+03</td>\n",
       "      <td>9.663217e+02</td>\n",
       "      <td>1.791877e+01</td>\n",
       "      <td>1.626860e+11</td>\n",
       "    </tr>\n",
       "    <tr>\n",
       "      <th>min</th>\n",
       "      <td>2.011000e+03</td>\n",
       "      <td>1.000000e+00</td>\n",
       "      <td>0.000000e+00</td>\n",
       "      <td>3.606469e-94</td>\n",
       "      <td>1.000000e+00</td>\n",
       "      <td>0.000000e+00</td>\n",
       "      <td>1.000000e+00</td>\n",
       "      <td>3.000000e+07</td>\n",
       "    </tr>\n",
       "    <tr>\n",
       "      <th>25%</th>\n",
       "      <td>2.013000e+03</td>\n",
       "      <td>9.200000e+01</td>\n",
       "      <td>2.000000e+00</td>\n",
       "      <td>2.148438e-02</td>\n",
       "      <td>1.000000e+00</td>\n",
       "      <td>0.000000e+00</td>\n",
       "      <td>1.000000e+00</td>\n",
       "      <td>7.428559e+07</td>\n",
       "    </tr>\n",
       "    <tr>\n",
       "      <th>50%</th>\n",
       "      <td>2.014000e+03</td>\n",
       "      <td>1.810000e+02</td>\n",
       "      <td>8.000000e+00</td>\n",
       "      <td>2.500000e-01</td>\n",
       "      <td>1.000000e+00</td>\n",
       "      <td>0.000000e+00</td>\n",
       "      <td>2.000000e+00</td>\n",
       "      <td>1.999985e+08</td>\n",
       "    </tr>\n",
       "    <tr>\n",
       "      <th>75%</th>\n",
       "      <td>2.016000e+03</td>\n",
       "      <td>2.710000e+02</td>\n",
       "      <td>1.080000e+02</td>\n",
       "      <td>8.819482e-01</td>\n",
       "      <td>5.600000e+01</td>\n",
       "      <td>0.000000e+00</td>\n",
       "      <td>2.000000e+00</td>\n",
       "      <td>9.940000e+08</td>\n",
       "    </tr>\n",
       "    <tr>\n",
       "      <th>max</th>\n",
       "      <td>2.018000e+03</td>\n",
       "      <td>3.650000e+02</td>\n",
       "      <td>1.440000e+02</td>\n",
       "      <td>1.943749e+03</td>\n",
       "      <td>1.449700e+04</td>\n",
       "      <td>1.449600e+04</td>\n",
       "      <td>1.292000e+04</td>\n",
       "      <td>4.996440e+13</td>\n",
       "    </tr>\n",
       "  </tbody>\n",
       "</table>\n",
       "</div>"
      ],
      "text/plain": [
       "               year           day        length        weight         count  \\\n",
       "count  2.916697e+06  2.916697e+06  2.916697e+06  2.916697e+06  2.916697e+06   \n",
       "mean   2.014475e+03  1.814572e+02  4.500859e+01  5.455192e-01  7.216446e+02   \n",
       "std    2.257398e+00  1.040118e+02  5.898236e+01  3.674255e+00  1.689676e+03   \n",
       "min    2.011000e+03  1.000000e+00  0.000000e+00  3.606469e-94  1.000000e+00   \n",
       "25%    2.013000e+03  9.200000e+01  2.000000e+00  2.148438e-02  1.000000e+00   \n",
       "50%    2.014000e+03  1.810000e+02  8.000000e+00  2.500000e-01  1.000000e+00   \n",
       "75%    2.016000e+03  2.710000e+02  1.080000e+02  8.819482e-01  5.600000e+01   \n",
       "max    2.018000e+03  3.650000e+02  1.440000e+02  1.943749e+03  1.449700e+04   \n",
       "\n",
       "             looped     neighbors        income  \n",
       "count  2.916697e+06  2.916697e+06  2.916697e+06  \n",
       "mean   2.385067e+02  2.206516e+00  4.464889e+09  \n",
       "std    9.663217e+02  1.791877e+01  1.626860e+11  \n",
       "min    0.000000e+00  1.000000e+00  3.000000e+07  \n",
       "25%    0.000000e+00  1.000000e+00  7.428559e+07  \n",
       "50%    0.000000e+00  2.000000e+00  1.999985e+08  \n",
       "75%    0.000000e+00  2.000000e+00  9.940000e+08  \n",
       "max    1.449600e+04  1.292000e+04  4.996440e+13  "
      ]
     },
     "execution_count": 12,
     "metadata": {},
     "output_type": "execute_result"
    }
   ],
   "source": [
    "#Dataset description\n",
    "df.describe()"
   ]
  },
  {
   "cell_type": "code",
   "execution_count": 13,
   "id": "fb593f25",
   "metadata": {
    "id": "fb593f25"
   },
   "outputs": [],
   "source": [
    "#We store categorical columns in categorical_cols(variable)\n",
    "categorical_cols=df.select_dtypes(include=\"object\").columns"
   ]
  },
  {
   "cell_type": "code",
   "execution_count": 14,
   "id": "fa5a3d00",
   "metadata": {
    "colab": {
     "base_uri": "https://localhost:8080/"
    },
    "id": "fa5a3d00",
    "outputId": "62339587-4b85-4e26-d286-6a013f1761a8"
   },
   "outputs": [
    {
     "data": {
      "text/plain": [
       "Index(['address', 'label'], dtype='object')"
      ]
     },
     "execution_count": 14,
     "metadata": {},
     "output_type": "execute_result"
    }
   ],
   "source": [
    "#Categorical columns\n",
    "categorical_cols"
   ]
  },
  {
   "cell_type": "code",
   "execution_count": 15,
   "id": "50fbdb3d",
   "metadata": {
    "id": "50fbdb3d"
   },
   "outputs": [],
   "source": [
    "#We store numerical columns in numerical_cols(variable)\n",
    "numerical_cols=df.select_dtypes(include=\"number\").columns"
   ]
  },
  {
   "cell_type": "code",
   "execution_count": 16,
   "id": "24c0a93c",
   "metadata": {
    "colab": {
     "base_uri": "https://localhost:8080/"
    },
    "id": "24c0a93c",
    "outputId": "2f16c867-7dec-47c4-fa05-c4f0197367ee"
   },
   "outputs": [
    {
     "data": {
      "text/plain": [
       "Index(['year', 'day', 'length', 'weight', 'count', 'looped', 'neighbors',\n",
       "       'income'],\n",
       "      dtype='object')"
      ]
     },
     "execution_count": 16,
     "metadata": {},
     "output_type": "execute_result"
    }
   ],
   "source": [
    "#Numerical columns\n",
    "numerical_cols"
   ]
  },
  {
   "cell_type": "code",
   "execution_count": 17,
   "id": "3e7cacfe",
   "metadata": {
    "colab": {
     "base_uri": "https://localhost:8080/"
    },
    "id": "3e7cacfe",
    "outputId": "00674acf-7224-4cf6-fbae-2206c82aa407"
   },
   "outputs": [
    {
     "data": {
      "text/plain": [
       "address      0\n",
       "year         0\n",
       "day          0\n",
       "length       0\n",
       "weight       0\n",
       "count        0\n",
       "looped       0\n",
       "neighbors    0\n",
       "income       0\n",
       "label        0\n",
       "dtype: int64"
      ]
     },
     "execution_count": 17,
     "metadata": {},
     "output_type": "execute_result"
    }
   ],
   "source": [
    "#The dataset has very low amount of null values\n",
    "df.isnull().sum()"
   ]
  },
  {
   "cell_type": "code",
   "execution_count": 18,
   "id": "B6zDDYYHHlRO",
   "metadata": {
    "colab": {
     "base_uri": "https://localhost:8080/",
     "height": 53
    },
    "id": "B6zDDYYHHlRO",
    "outputId": "2defe827-fdea-4ed0-9cea-6375f20e1d2c"
   },
   "outputs": [
    {
     "data": {
      "text/html": [
       "<div>\n",
       "<style scoped>\n",
       "    .dataframe tbody tr th:only-of-type {\n",
       "        vertical-align: middle;\n",
       "    }\n",
       "\n",
       "    .dataframe tbody tr th {\n",
       "        vertical-align: top;\n",
       "    }\n",
       "\n",
       "    .dataframe thead th {\n",
       "        text-align: right;\n",
       "    }\n",
       "</style>\n",
       "<table border=\"1\" class=\"dataframe\">\n",
       "  <thead>\n",
       "    <tr style=\"text-align: right;\">\n",
       "      <th></th>\n",
       "      <th>address</th>\n",
       "      <th>year</th>\n",
       "      <th>day</th>\n",
       "      <th>length</th>\n",
       "      <th>weight</th>\n",
       "      <th>count</th>\n",
       "      <th>looped</th>\n",
       "      <th>neighbors</th>\n",
       "      <th>income</th>\n",
       "      <th>label</th>\n",
       "    </tr>\n",
       "  </thead>\n",
       "  <tbody>\n",
       "  </tbody>\n",
       "</table>\n",
       "</div>"
      ],
      "text/plain": [
       "Empty DataFrame\n",
       "Columns: [address, year, day, length, weight, count, looped, neighbors, income, label]\n",
       "Index: []"
      ]
     },
     "execution_count": 18,
     "metadata": {},
     "output_type": "execute_result"
    }
   ],
   "source": [
    "#The dataset has only one line with null values\n",
    "df[df.isnull().any(axis=1)]"
   ]
  },
  {
   "cell_type": "code",
   "execution_count": 19,
   "id": "ZX-4nCpgFX4i",
   "metadata": {
    "id": "ZX-4nCpgFX4i"
   },
   "outputs": [],
   "source": [
    "#Deleting null values\n",
    "df.dropna(inplace = True)"
   ]
  },
  {
   "cell_type": "code",
   "execution_count": 20,
   "id": "d4cbf2c5",
   "metadata": {
    "id": "d4cbf2c5"
   },
   "outputs": [],
   "source": [
    "#Deleting useless columns\n",
    "df.drop(columns=[\"address\",\"year\",\"day\"],axis=1,inplace=True)"
   ]
  },
  {
   "cell_type": "code",
   "execution_count": 21,
   "id": "251b4244",
   "metadata": {
    "id": "251b4244"
   },
   "outputs": [],
   "source": [
    "# Extracting features (X) and labels (y)\n",
    "# X contains all columns except the \"label\" column (features)\n",
    "X = df.drop(columns=[\"label\"])\n",
    "\n",
    "# y contains only the \"label\" column (target)\n",
    "y = df[\"label\"]"
   ]
  },
  {
   "cell_type": "code",
   "execution_count": 22,
   "id": "d4c634ac",
   "metadata": {
    "colab": {
     "base_uri": "https://localhost:8080/"
    },
    "id": "d4c634ac",
    "outputId": "b25482d3-024a-426d-dd87-1d75fff2d908"
   },
   "outputs": [
    {
     "data": {
      "text/plain": [
       "Index(['length', 'weight', 'count', 'looped', 'neighbors', 'income'], dtype='object')"
      ]
     },
     "execution_count": 22,
     "metadata": {},
     "output_type": "execute_result"
    }
   ],
   "source": [
    "#Features\n",
    "X.columns"
   ]
  },
  {
   "cell_type": "code",
   "execution_count": 23,
   "id": "f1507d7d",
   "metadata": {
    "colab": {
     "base_uri": "https://localhost:8080/"
    },
    "id": "f1507d7d",
    "outputId": "94c1c0ff-ef0f-4ff1-d3de-93ce61f4266f"
   },
   "outputs": [
    {
     "data": {
      "text/plain": [
       "array(['princetonCerber', 'princetonLocky', 'montrealCryptoLocker',\n",
       "       'montrealCryptXXX', 'paduaCryptoWall', 'montrealWannaCry',\n",
       "       'montrealDMALockerv3', 'montrealCryptoTorLocker2015',\n",
       "       'montrealSamSam', 'montrealFlyper', 'montrealNoobCrypt',\n",
       "       'montrealDMALocker', 'montrealGlobe', 'montrealEDA2',\n",
       "       'paduaKeRanger', 'montrealVenusLocker', 'montrealXTPLocker',\n",
       "       'paduaJigsaw', 'montrealGlobev3', 'montrealJigSaw',\n",
       "       'montrealXLockerv5.0', 'montrealXLocker', 'montrealRazy',\n",
       "       'montrealCryptConsole', 'montrealGlobeImposter', 'montrealSam',\n",
       "       'montrealComradeCircle', 'montrealAPT', 'white'], dtype=object)"
      ]
     },
     "execution_count": 23,
     "metadata": {},
     "output_type": "execute_result"
    }
   ],
   "source": [
    "#Target values\n",
    "y.unique()"
   ]
  },
  {
   "cell_type": "code",
   "execution_count": 11,
   "id": "6d626043",
   "metadata": {
    "colab": {
     "base_uri": "https://localhost:8080/"
    },
    "id": "6d626043",
    "outputId": "6e51c301-25a8-4608-8b3f-d5fc14cae197"
   },
   "outputs": [
    {
     "data": {
      "text/plain": [
       "white                          2875284\n",
       "paduaCryptoWall                  12390\n",
       "montrealCryptoLocker              9315\n",
       "princetonCerber                   9223\n",
       "princetonLocky                    6625\n",
       "montrealCryptXXX                  2419\n",
       "montrealNoobCrypt                  483\n",
       "montrealDMALockerv3                354\n",
       "montrealDMALocker                  251\n",
       "montrealSamSam                      62\n",
       "montrealCryptoTorLocker2015         55\n",
       "montrealGlobeImposter               55\n",
       "montrealGlobev3                     34\n",
       "montrealGlobe                       32\n",
       "montrealWannaCry                    28\n",
       "montrealRazy                        13\n",
       "montrealAPT                         11\n",
       "paduaKeRanger                       10\n",
       "montrealFlyper                       9\n",
       "montrealXTPLocker                    8\n",
       "montrealXLockerv5.0                  7\n",
       "montrealVenusLocker                  7\n",
       "montrealCryptConsole                 7\n",
       "montrealEDA2                         6\n",
       "montrealJigSaw                       4\n",
       "paduaJigsaw                          2\n",
       "montrealXLocker                      1\n",
       "montrealSam                          1\n",
       "montrealComradeCircle                1\n",
       "Name: label, dtype: int64"
      ]
     },
     "execution_count": 11,
     "metadata": {},
     "output_type": "execute_result"
    }
   ],
   "source": [
    "# Calculating the amount of each unique label in the 'label' column\n",
    "df[\"label\"].value_counts()"
   ]
  },
  {
   "cell_type": "markdown",
   "id": "R_87Z8i_eihu",
   "metadata": {
    "id": "R_87Z8i_eihu"
   },
   "source": [
    "as we can see here the label white has 2875284.. which will definitely influence our data .. we dont want that so we will try to remove some of the data that has white as a label to make as balanced as we can."
   ]
  },
  {
   "cell_type": "markdown",
   "id": "JnSZjb4vq6Fl",
   "metadata": {
    "id": "JnSZjb4vq6Fl"
   },
   "source": [
    "# Dataset enhancement"
   ]
  },
  {
   "cell_type": "markdown",
   "id": "Thw96SrvqFUo",
   "metadata": {
    "id": "Thw96SrvqFUo"
   },
   "source": [
    "In this section, our goal is to balance the number of rows having the label **'white'** with the number of rows having a different **label**. This adjustment aims to address the significant disparity in the quantity of data labeled as 'white' compared to the other labels."
   ]
  },
  {
   "cell_type": "code",
   "execution_count": 24,
   "id": "T3PxCuLItWOo",
   "metadata": {
    "colab": {
     "base_uri": "https://localhost:8080/",
     "height": 521
    },
    "id": "T3PxCuLItWOo",
    "outputId": "ce30eebb-ed22-4a32-a1d6-53010616d29b"
   },
   "outputs": [
    {
     "data": {
      "image/png": "[encoded data removed]",
      "text/plain": [
       "<Figure size 600x600 with 1 Axes>"
      ]
     },
     "metadata": {},
     "output_type": "display_data"
    }
   ],
   "source": [
    "# Calculate the counts of unique labels in the 'label' column\n",
    "label_counts = df['label'].value_counts()\n",
    "\n",
    "# Extract the counts for 'white' and other labels\n",
    "white_count = label_counts.get('white', 0)\n",
    "non_white_count = label_counts.sum() - white_count\n",
    "\n",
    "# Data for the pie chart\n",
    "labels = ['white', 'non-white']\n",
    "sizes = [white_count, non_white_count]\n",
    "colors = ['lightblue', 'lightgreen']\n",
    "explode = (0.1, 0)  # Explode the 'white' slice slightly\n",
    "\n",
    "# Create the pie chart\n",
    "plt.figure(figsize=(6, 6))\n",
    "plt.pie(sizes, explode=explode, labels=labels, colors=colors, autopct='%1.1f%%', startangle=140)\n",
    "plt.title('Distribution of White and Non-White Labels')\n",
    "\n",
    "# Show the pie chart\n",
    "plt.axis('equal')  # Equal aspect ratio ensures that pie is drawn as a circle\n",
    "plt.show()\n"
   ]
  },
  {
   "cell_type": "markdown",
   "id": "5XJ4QftyD7SH",
   "metadata": {
    "id": "5XJ4QftyD7SH"
   },
   "source": [
    "The pie chart illustrates a significant contrast among the categories."
   ]
  },
  {
   "cell_type": "code",
   "execution_count": 25,
   "id": "92a94e89",
   "metadata": {
    "colab": {
     "base_uri": "https://localhost:8080/",
     "height": 423
    },
    "id": "92a94e89",
    "outputId": "cbbb164f-77ff-407e-b65f-3744e6dbe051"
   },
   "outputs": [
    {
     "data": {
      "text/html": [
       "<div>\n",
       "<style scoped>\n",
       "    .dataframe tbody tr th:only-of-type {\n",
       "        vertical-align: middle;\n",
       "    }\n",
       "\n",
       "    .dataframe tbody tr th {\n",
       "        vertical-align: top;\n",
       "    }\n",
       "\n",
       "    .dataframe thead th {\n",
       "        text-align: right;\n",
       "    }\n",
       "</style>\n",
       "<table border=\"1\" class=\"dataframe\">\n",
       "  <thead>\n",
       "    <tr style=\"text-align: right;\">\n",
       "      <th></th>\n",
       "      <th>length</th>\n",
       "      <th>weight</th>\n",
       "      <th>count</th>\n",
       "      <th>looped</th>\n",
       "      <th>neighbors</th>\n",
       "      <th>income</th>\n",
       "      <th>label</th>\n",
       "    </tr>\n",
       "  </thead>\n",
       "  <tbody>\n",
       "    <tr>\n",
       "      <th>0</th>\n",
       "      <td>18</td>\n",
       "      <td>0.008333</td>\n",
       "      <td>1</td>\n",
       "      <td>0</td>\n",
       "      <td>2</td>\n",
       "      <td>1.000500e+08</td>\n",
       "      <td>princetonCerber</td>\n",
       "    </tr>\n",
       "    <tr>\n",
       "      <th>1</th>\n",
       "      <td>44</td>\n",
       "      <td>0.000244</td>\n",
       "      <td>1</td>\n",
       "      <td>0</td>\n",
       "      <td>1</td>\n",
       "      <td>1.000000e+08</td>\n",
       "      <td>princetonLocky</td>\n",
       "    </tr>\n",
       "    <tr>\n",
       "      <th>2</th>\n",
       "      <td>0</td>\n",
       "      <td>1.000000</td>\n",
       "      <td>1</td>\n",
       "      <td>0</td>\n",
       "      <td>2</td>\n",
       "      <td>2.000000e+08</td>\n",
       "      <td>princetonCerber</td>\n",
       "    </tr>\n",
       "    <tr>\n",
       "      <th>3</th>\n",
       "      <td>72</td>\n",
       "      <td>0.003906</td>\n",
       "      <td>1</td>\n",
       "      <td>0</td>\n",
       "      <td>2</td>\n",
       "      <td>7.120000e+07</td>\n",
       "      <td>princetonCerber</td>\n",
       "    </tr>\n",
       "    <tr>\n",
       "      <th>4</th>\n",
       "      <td>144</td>\n",
       "      <td>0.072848</td>\n",
       "      <td>456</td>\n",
       "      <td>0</td>\n",
       "      <td>1</td>\n",
       "      <td>2.000000e+08</td>\n",
       "      <td>princetonLocky</td>\n",
       "    </tr>\n",
       "    <tr>\n",
       "      <th>...</th>\n",
       "      <td>...</td>\n",
       "      <td>...</td>\n",
       "      <td>...</td>\n",
       "      <td>...</td>\n",
       "      <td>...</td>\n",
       "      <td>...</td>\n",
       "      <td>...</td>\n",
       "    </tr>\n",
       "    <tr>\n",
       "      <th>41408</th>\n",
       "      <td>144</td>\n",
       "      <td>1.375002</td>\n",
       "      <td>8076</td>\n",
       "      <td>8073</td>\n",
       "      <td>6</td>\n",
       "      <td>5.726876e+08</td>\n",
       "      <td>montrealAPT</td>\n",
       "    </tr>\n",
       "    <tr>\n",
       "      <th>41409</th>\n",
       "      <td>2</td>\n",
       "      <td>1.500000</td>\n",
       "      <td>2</td>\n",
       "      <td>0</td>\n",
       "      <td>2</td>\n",
       "      <td>7.449526e+07</td>\n",
       "      <td>montrealAPT</td>\n",
       "    </tr>\n",
       "    <tr>\n",
       "      <th>41410</th>\n",
       "      <td>0</td>\n",
       "      <td>0.500000</td>\n",
       "      <td>1</td>\n",
       "      <td>0</td>\n",
       "      <td>2</td>\n",
       "      <td>5.714286e+07</td>\n",
       "      <td>montrealAPT</td>\n",
       "    </tr>\n",
       "    <tr>\n",
       "      <th>41411</th>\n",
       "      <td>6</td>\n",
       "      <td>0.125000</td>\n",
       "      <td>1</td>\n",
       "      <td>0</td>\n",
       "      <td>2</td>\n",
       "      <td>1.000000e+08</td>\n",
       "      <td>montrealAPT</td>\n",
       "    </tr>\n",
       "    <tr>\n",
       "      <th>41412</th>\n",
       "      <td>144</td>\n",
       "      <td>0.309727</td>\n",
       "      <td>4882</td>\n",
       "      <td>0</td>\n",
       "      <td>1</td>\n",
       "      <td>1.000000e+09</td>\n",
       "      <td>montrealAPT</td>\n",
       "    </tr>\n",
       "  </tbody>\n",
       "</table>\n",
       "<p>41413 rows × 7 columns</p>\n",
       "</div>"
      ],
      "text/plain": [
       "       length    weight  count  looped  neighbors        income  \\\n",
       "0          18  0.008333      1       0          2  1.000500e+08   \n",
       "1          44  0.000244      1       0          1  1.000000e+08   \n",
       "2           0  1.000000      1       0          2  2.000000e+08   \n",
       "3          72  0.003906      1       0          2  7.120000e+07   \n",
       "4         144  0.072848    456       0          1  2.000000e+08   \n",
       "...       ...       ...    ...     ...        ...           ...   \n",
       "41408     144  1.375002   8076    8073          6  5.726876e+08   \n",
       "41409       2  1.500000      2       0          2  7.449526e+07   \n",
       "41410       0  0.500000      1       0          2  5.714286e+07   \n",
       "41411       6  0.125000      1       0          2  1.000000e+08   \n",
       "41412     144  0.309727   4882       0          1  1.000000e+09   \n",
       "\n",
       "                 label  \n",
       "0      princetonCerber  \n",
       "1       princetonLocky  \n",
       "2      princetonCerber  \n",
       "3      princetonCerber  \n",
       "4       princetonLocky  \n",
       "...                ...  \n",
       "41408      montrealAPT  \n",
       "41409      montrealAPT  \n",
       "41410      montrealAPT  \n",
       "41411      montrealAPT  \n",
       "41412      montrealAPT  \n",
       "\n",
       "[41413 rows x 7 columns]"
      ]
     },
     "execution_count": 25,
     "metadata": {},
     "output_type": "execute_result"
    }
   ],
   "source": [
    "# Filter rows where the label is not 'white' to create a subset called 'black_rows'\n",
    "black_rows = df[df[\"label\"] != \"white\"]\n",
    "black_rows"
   ]
  },
  {
   "cell_type": "code",
   "execution_count": 26,
   "id": "6fd13d05",
   "metadata": {
    "id": "6fd13d05"
   },
   "outputs": [],
   "source": [
    "# Filter rows where the label is 'white' to create a subset called 'white_sample'\n",
    "white_sample = df[df[\"label\"] == \"white\"]\n"
   ]
  },
  {
   "cell_type": "code",
   "execution_count": 27,
   "id": "HkQgnq0FEiRy",
   "metadata": {
    "colab": {
     "base_uri": "https://localhost:8080/",
     "height": 206
    },
    "id": "HkQgnq0FEiRy",
    "outputId": "f29d89d1-e50f-467b-f1e0-a513664b8aaf"
   },
   "outputs": [
    {
     "data": {
      "text/html": [
       "<div>\n",
       "<style scoped>\n",
       "    .dataframe tbody tr th:only-of-type {\n",
       "        vertical-align: middle;\n",
       "    }\n",
       "\n",
       "    .dataframe tbody tr th {\n",
       "        vertical-align: top;\n",
       "    }\n",
       "\n",
       "    .dataframe thead th {\n",
       "        text-align: right;\n",
       "    }\n",
       "</style>\n",
       "<table border=\"1\" class=\"dataframe\">\n",
       "  <thead>\n",
       "    <tr style=\"text-align: right;\">\n",
       "      <th></th>\n",
       "      <th>length</th>\n",
       "      <th>weight</th>\n",
       "      <th>count</th>\n",
       "      <th>looped</th>\n",
       "      <th>neighbors</th>\n",
       "      <th>income</th>\n",
       "      <th>label</th>\n",
       "    </tr>\n",
       "  </thead>\n",
       "  <tbody>\n",
       "    <tr>\n",
       "      <th>2358</th>\n",
       "      <td>14</td>\n",
       "      <td>0.007812</td>\n",
       "      <td>1</td>\n",
       "      <td>0</td>\n",
       "      <td>2</td>\n",
       "      <td>2.440000e+08</td>\n",
       "      <td>montrealCryptoLocker</td>\n",
       "    </tr>\n",
       "    <tr>\n",
       "      <th>17227</th>\n",
       "      <td>2</td>\n",
       "      <td>0.750000</td>\n",
       "      <td>1</td>\n",
       "      <td>1</td>\n",
       "      <td>2</td>\n",
       "      <td>6.500000e+08</td>\n",
       "      <td>princetonLocky</td>\n",
       "    </tr>\n",
       "    <tr>\n",
       "      <th>63989</th>\n",
       "      <td>14</td>\n",
       "      <td>0.007812</td>\n",
       "      <td>1</td>\n",
       "      <td>0</td>\n",
       "      <td>2</td>\n",
       "      <td>4.089000e+09</td>\n",
       "      <td>white</td>\n",
       "    </tr>\n",
       "    <tr>\n",
       "      <th>68530</th>\n",
       "      <td>2</td>\n",
       "      <td>1.000000</td>\n",
       "      <td>1</td>\n",
       "      <td>0</td>\n",
       "      <td>2</td>\n",
       "      <td>4.965000e+09</td>\n",
       "      <td>white</td>\n",
       "    </tr>\n",
       "    <tr>\n",
       "      <th>16594</th>\n",
       "      <td>8</td>\n",
       "      <td>0.125000</td>\n",
       "      <td>1</td>\n",
       "      <td>0</td>\n",
       "      <td>2</td>\n",
       "      <td>2.700000e+08</td>\n",
       "      <td>princetonCerber</td>\n",
       "    </tr>\n",
       "  </tbody>\n",
       "</table>\n",
       "</div>"
      ],
      "text/plain": [
       "       length    weight  count  looped  neighbors        income  \\\n",
       "2358       14  0.007812      1       0          2  2.440000e+08   \n",
       "17227       2  0.750000      1       1          2  6.500000e+08   \n",
       "63989      14  0.007812      1       0          2  4.089000e+09   \n",
       "68530       2  1.000000      1       0          2  4.965000e+09   \n",
       "16594       8  0.125000      1       0          2  2.700000e+08   \n",
       "\n",
       "                      label  \n",
       "2358   montrealCryptoLocker  \n",
       "17227        princetonLocky  \n",
       "63989                 white  \n",
       "68530                 white  \n",
       "16594       princetonCerber  "
      ]
     },
     "execution_count": 27,
     "metadata": {},
     "output_type": "execute_result"
    }
   ],
   "source": [
    "# Concatenate rows from 'black_rows' with a subset of rows from 'white_sample' to create 'sampled_df'\n",
    "\n",
    "# Select a subset of 'white_sample' with the same length as 'black_rows'\n",
    "subset_white_sample = white_sample.iloc[:len(black_rows), :]\n",
    "\n",
    "# Concatenate 'black_rows' with the selected subset of 'white_sample'\n",
    "concatenated_df = pd.concat([black_rows, subset_white_sample])\n",
    "\n",
    "# Shuffle the concatenated DataFrame to create a random sample\n",
    "# 'frac=1' retains all rows and 'random_state=50' provides reproducibility of results\n",
    "sampled_df = concatenated_df.sample(frac=1, random_state=50)\n",
    "\n",
    "# Display the first few rows of the sampled DataFrame\n",
    "sampled_df.head()"
   ]
  },
  {
   "cell_type": "code",
   "execution_count": 28,
   "id": "7gKH-OyOYgBk",
   "metadata": {
    "colab": {
     "base_uri": "https://localhost:8080/"
    },
    "id": "7gKH-OyOYgBk",
    "outputId": "2e4dfb97-a942-4059-e3a6-e14b144d586a"
   },
   "outputs": [
    {
     "name": "stdout",
     "output_type": "stream",
     "text": [
      "(82826, 7)\n"
     ]
    }
   ],
   "source": [
    "# Display the shape (number of rows and columns) of the DataFrame 'sampled_df'\n",
    "print(sampled_df.shape)"
   ]
  },
  {
   "cell_type": "code",
   "execution_count": 29,
   "id": "pqKYLRIyF77A",
   "metadata": {
    "colab": {
     "base_uri": "https://localhost:8080/",
     "height": 423
    },
    "id": "pqKYLRIyF77A",
    "outputId": "d0695046-8b08-48bc-f359-376e0fb3efea"
   },
   "outputs": [
    {
     "data": {
      "text/html": [
       "<div>\n",
       "<style scoped>\n",
       "    .dataframe tbody tr th:only-of-type {\n",
       "        vertical-align: middle;\n",
       "    }\n",
       "\n",
       "    .dataframe tbody tr th {\n",
       "        vertical-align: top;\n",
       "    }\n",
       "\n",
       "    .dataframe thead th {\n",
       "        text-align: right;\n",
       "    }\n",
       "</style>\n",
       "<table border=\"1\" class=\"dataframe\">\n",
       "  <thead>\n",
       "    <tr style=\"text-align: right;\">\n",
       "      <th></th>\n",
       "      <th>length</th>\n",
       "      <th>weight</th>\n",
       "      <th>count</th>\n",
       "      <th>looped</th>\n",
       "      <th>neighbors</th>\n",
       "      <th>income</th>\n",
       "      <th>label</th>\n",
       "    </tr>\n",
       "  </thead>\n",
       "  <tbody>\n",
       "    <tr>\n",
       "      <th>2358</th>\n",
       "      <td>14</td>\n",
       "      <td>0.007812</td>\n",
       "      <td>1</td>\n",
       "      <td>0</td>\n",
       "      <td>2</td>\n",
       "      <td>2.440000e+08</td>\n",
       "      <td>montrealCryptoLocker</td>\n",
       "    </tr>\n",
       "    <tr>\n",
       "      <th>17227</th>\n",
       "      <td>2</td>\n",
       "      <td>0.750000</td>\n",
       "      <td>1</td>\n",
       "      <td>1</td>\n",
       "      <td>2</td>\n",
       "      <td>6.500000e+08</td>\n",
       "      <td>princetonLocky</td>\n",
       "    </tr>\n",
       "    <tr>\n",
       "      <th>63989</th>\n",
       "      <td>14</td>\n",
       "      <td>0.007812</td>\n",
       "      <td>1</td>\n",
       "      <td>0</td>\n",
       "      <td>2</td>\n",
       "      <td>4.089000e+09</td>\n",
       "      <td>white</td>\n",
       "    </tr>\n",
       "    <tr>\n",
       "      <th>68530</th>\n",
       "      <td>2</td>\n",
       "      <td>1.000000</td>\n",
       "      <td>1</td>\n",
       "      <td>0</td>\n",
       "      <td>2</td>\n",
       "      <td>4.965000e+09</td>\n",
       "      <td>white</td>\n",
       "    </tr>\n",
       "    <tr>\n",
       "      <th>16594</th>\n",
       "      <td>8</td>\n",
       "      <td>0.125000</td>\n",
       "      <td>1</td>\n",
       "      <td>0</td>\n",
       "      <td>2</td>\n",
       "      <td>2.700000e+08</td>\n",
       "      <td>princetonCerber</td>\n",
       "    </tr>\n",
       "    <tr>\n",
       "      <th>...</th>\n",
       "      <td>...</td>\n",
       "      <td>...</td>\n",
       "      <td>...</td>\n",
       "      <td>...</td>\n",
       "      <td>...</td>\n",
       "      <td>...</td>\n",
       "      <td>...</td>\n",
       "    </tr>\n",
       "    <tr>\n",
       "      <th>55366</th>\n",
       "      <td>0</td>\n",
       "      <td>0.500000</td>\n",
       "      <td>1</td>\n",
       "      <td>0</td>\n",
       "      <td>2</td>\n",
       "      <td>1.000000e+08</td>\n",
       "      <td>white</td>\n",
       "    </tr>\n",
       "    <tr>\n",
       "      <th>59358</th>\n",
       "      <td>8</td>\n",
       "      <td>1.000000</td>\n",
       "      <td>1</td>\n",
       "      <td>0</td>\n",
       "      <td>2</td>\n",
       "      <td>4.991000e+09</td>\n",
       "      <td>white</td>\n",
       "    </tr>\n",
       "    <tr>\n",
       "      <th>48417</th>\n",
       "      <td>60</td>\n",
       "      <td>0.004151</td>\n",
       "      <td>3</td>\n",
       "      <td>0</td>\n",
       "      <td>2</td>\n",
       "      <td>9.200000e+07</td>\n",
       "      <td>white</td>\n",
       "    </tr>\n",
       "    <tr>\n",
       "      <th>22637</th>\n",
       "      <td>8</td>\n",
       "      <td>0.500000</td>\n",
       "      <td>1</td>\n",
       "      <td>0</td>\n",
       "      <td>1</td>\n",
       "      <td>1.907611e+08</td>\n",
       "      <td>paduaCryptoWall</td>\n",
       "    </tr>\n",
       "    <tr>\n",
       "      <th>14000</th>\n",
       "      <td>4</td>\n",
       "      <td>1.500000</td>\n",
       "      <td>2</td>\n",
       "      <td>0</td>\n",
       "      <td>3</td>\n",
       "      <td>9.610245e+07</td>\n",
       "      <td>paduaCryptoWall</td>\n",
       "    </tr>\n",
       "  </tbody>\n",
       "</table>\n",
       "<p>82826 rows × 7 columns</p>\n",
       "</div>"
      ],
      "text/plain": [
       "       length    weight  count  looped  neighbors        income  \\\n",
       "2358       14  0.007812      1       0          2  2.440000e+08   \n",
       "17227       2  0.750000      1       1          2  6.500000e+08   \n",
       "63989      14  0.007812      1       0          2  4.089000e+09   \n",
       "68530       2  1.000000      1       0          2  4.965000e+09   \n",
       "16594       8  0.125000      1       0          2  2.700000e+08   \n",
       "...       ...       ...    ...     ...        ...           ...   \n",
       "55366       0  0.500000      1       0          2  1.000000e+08   \n",
       "59358       8  1.000000      1       0          2  4.991000e+09   \n",
       "48417      60  0.004151      3       0          2  9.200000e+07   \n",
       "22637       8  0.500000      1       0          1  1.907611e+08   \n",
       "14000       4  1.500000      2       0          3  9.610245e+07   \n",
       "\n",
       "                      label  \n",
       "2358   montrealCryptoLocker  \n",
       "17227        princetonLocky  \n",
       "63989                 white  \n",
       "68530                 white  \n",
       "16594       princetonCerber  \n",
       "...                     ...  \n",
       "55366                 white  \n",
       "59358                 white  \n",
       "48417                 white  \n",
       "22637       paduaCryptoWall  \n",
       "14000       paduaCryptoWall  \n",
       "\n",
       "[82826 rows x 7 columns]"
      ]
     },
     "execution_count": 29,
     "metadata": {},
     "output_type": "execute_result"
    }
   ],
   "source": [
    "#Displaying the new dataset\n",
    "sampled_df"
   ]
  },
  {
   "cell_type": "code",
   "execution_count": 33,
   "id": "76714d31",
   "metadata": {},
   "outputs": [],
   "source": [
    "sampled_df.to_csv(\"Cleaned_data.csv\", index=False)"
   ]
  },
  {
   "cell_type": "code",
   "execution_count": 34,
   "id": "b625e29c",
   "metadata": {},
   "outputs": [],
   "source": [
    "df = pd.read_csv(\"Cleaned_data.csv\")"
   ]
  },
  {
   "cell_type": "code",
   "execution_count": 35,
   "id": "fa51633d",
   "metadata": {},
   "outputs": [
    {
     "data": {
      "text/html": [
       "<div>\n",
       "<style scoped>\n",
       "    .dataframe tbody tr th:only-of-type {\n",
       "        vertical-align: middle;\n",
       "    }\n",
       "\n",
       "    .dataframe tbody tr th {\n",
       "        vertical-align: top;\n",
       "    }\n",
       "\n",
       "    .dataframe thead th {\n",
       "        text-align: right;\n",
       "    }\n",
       "</style>\n",
       "<table border=\"1\" class=\"dataframe\">\n",
       "  <thead>\n",
       "    <tr style=\"text-align: right;\">\n",
       "      <th></th>\n",
       "      <th>length</th>\n",
       "      <th>weight</th>\n",
       "      <th>count</th>\n",
       "      <th>looped</th>\n",
       "      <th>neighbors</th>\n",
       "      <th>income</th>\n",
       "      <th>label</th>\n",
       "    </tr>\n",
       "  </thead>\n",
       "  <tbody>\n",
       "    <tr>\n",
       "      <th>0</th>\n",
       "      <td>14</td>\n",
       "      <td>0.007812</td>\n",
       "      <td>1</td>\n",
       "      <td>0</td>\n",
       "      <td>2</td>\n",
       "      <td>2.440000e+08</td>\n",
       "      <td>montrealCryptoLocker</td>\n",
       "    </tr>\n",
       "    <tr>\n",
       "      <th>1</th>\n",
       "      <td>2</td>\n",
       "      <td>0.750000</td>\n",
       "      <td>1</td>\n",
       "      <td>1</td>\n",
       "      <td>2</td>\n",
       "      <td>6.500000e+08</td>\n",
       "      <td>princetonLocky</td>\n",
       "    </tr>\n",
       "    <tr>\n",
       "      <th>2</th>\n",
       "      <td>14</td>\n",
       "      <td>0.007812</td>\n",
       "      <td>1</td>\n",
       "      <td>0</td>\n",
       "      <td>2</td>\n",
       "      <td>4.089000e+09</td>\n",
       "      <td>white</td>\n",
       "    </tr>\n",
       "    <tr>\n",
       "      <th>3</th>\n",
       "      <td>2</td>\n",
       "      <td>1.000000</td>\n",
       "      <td>1</td>\n",
       "      <td>0</td>\n",
       "      <td>2</td>\n",
       "      <td>4.965000e+09</td>\n",
       "      <td>white</td>\n",
       "    </tr>\n",
       "    <tr>\n",
       "      <th>4</th>\n",
       "      <td>8</td>\n",
       "      <td>0.125000</td>\n",
       "      <td>1</td>\n",
       "      <td>0</td>\n",
       "      <td>2</td>\n",
       "      <td>2.700000e+08</td>\n",
       "      <td>princetonCerber</td>\n",
       "    </tr>\n",
       "  </tbody>\n",
       "</table>\n",
       "</div>"
      ],
      "text/plain": [
       "   length    weight  count  looped  neighbors        income  \\\n",
       "0      14  0.007812      1       0          2  2.440000e+08   \n",
       "1       2  0.750000      1       1          2  6.500000e+08   \n",
       "2      14  0.007812      1       0          2  4.089000e+09   \n",
       "3       2  1.000000      1       0          2  4.965000e+09   \n",
       "4       8  0.125000      1       0          2  2.700000e+08   \n",
       "\n",
       "                  label  \n",
       "0  montrealCryptoLocker  \n",
       "1        princetonLocky  \n",
       "2                 white  \n",
       "3                 white  \n",
       "4       princetonCerber  "
      ]
     },
     "execution_count": 35,
     "metadata": {},
     "output_type": "execute_result"
    }
   ],
   "source": [
    "df.head()"
   ]
  },
  {
   "cell_type": "code",
   "execution_count": 37,
   "id": "9a91f87e",
   "metadata": {},
   "outputs": [
    {
     "data": {
      "text/plain": [
       "(82826, 7)"
      ]
     },
     "execution_count": 37,
     "metadata": {},
     "output_type": "execute_result"
    }
   ],
   "source": [
    "df.shape"
   ]
  },
  {
   "cell_type": "markdown",
   "id": "zmOjOxLeFLe1",
   "metadata": {
    "id": "zmOjOxLeFLe1"
   },
   "source": [
    "ok now that our data has 82826 rows and not almost 3 million as before we can work with it ."
   ]
  },
  {
   "cell_type": "code",
   "execution_count": null,
   "id": "f81563d1",
   "metadata": {},
   "outputs": [],
   "source": []
  },
  {
   "cell_type": "code",
   "execution_count": null,
   "id": "729ae13b",
   "metadata": {},
   "outputs": [],
   "source": []
  },
  {
   "cell_type": "code",
   "execution_count": null,
   "id": "508e6ff4",
   "metadata": {},
   "outputs": [],
   "source": []
  },
  {
   "cell_type": "markdown",
   "id": "f71Nws6FkY37",
   "metadata": {
    "id": "f71Nws6FkY37"
   },
   "source": [
    "### Model Performance Analysis\n",
    "\n",
    "#### **1. Logistic Regression:**\n",
    "   - **Accuracy:** 80.21%\n",
    "   - **Precision:** 81.59%\n",
    "   - **Recall:** 80.21%\n",
    "   - **F1 Score:** 80.00%\n",
    "   - Despite a balanced precision and recall, the model leans toward predicting the negative class, showing limitations in handling positive cases.\n",
    "\n",
    "#### **2. Support Vector Machine:**\n",
    "   - **Accuracy:** 78.69%\n",
    "   - **Precision:** 79.15%\n",
    "   - **Recall:** 78.69%\n",
    "   - **F1 Score:** 78.62%\n",
    "   - Exhibits balanced performance with a notable overall accuracy, precision, recall, and F1 score.\n",
    "\n",
    "#### **3. K-Nearest Neighbors:**\n",
    "   - **Accuracy:** 84.28%\n",
    "   - **Precision:** 84.36%\n",
    "   - **Recall:** 84.28%\n",
    "   - **F1 Score:** 84.27%\n",
    "   - Shows outstanding performance, excelling in accuracy, precision, recall, and F1 score.\n",
    "\n",
    "#### **4. Gradient Boosting:**\n",
    "   - **Accuracy:** 87.71%\n",
    "   - **Precision:** 87.87%\n",
    "   - **Recall:** 87.71%\n",
    "   - **F1 Score:** 87.70%\n",
    "   - Demonstrates high accuracy, precision, recall, and F1 score, comparable to other top-performing models.\n",
    "\n",
    "#### **5. XGBoost:**\n",
    "   - **Accuracy:** 88.44%\n",
    "   - **Precision:** 88.52%\n",
    "   - **Recall:** 88.44%\n",
    "   - **F1 Score:** 88.43%\n",
    "   - Achieves top-tier performance, closely aligning with Gradient Boosting.\n",
    "\n",
    "#### **6. Random Forest:**\n",
    "   - **Accuracy:** 88.31%\n",
    "   - **Precision:** 88.42%\n",
    "   - **Recall:** 88.31%\n",
    "   - **F1 Score:** 88.30%\n",
    "   - Maintains high accuracy, precision, recall, and F1 score, akin to Gradient Boosting and XGBoost.\n",
    "\n",
    "### Overall Model Insights:\n",
    "- K-Nearest Neighbors, Gradient Boosting, XGBoost, and Random Forest exhibit exceptional performance across all metrics.\n",
    "- Support Vector Machine demonstrates solid overall performance.\n",
    "- Logistic Regression stands out as the weakest performer, particularly in handling positive cases.\n",
    "\n",
    "### Confusion Matrices:\n",
    "- **Logistic Regression:**\n",
    "  - True Negative: 9619, False Positive: 4126\n",
    "  - False Negative: 1284, True Positive: 12304\n",
    "\n",
    "- **Support Vector Machine:**\n",
    "  - True Negative: 9995, False Positive: 3750\n",
    "  - False Negative: 2074, True Positive: 11514\n",
    "\n",
    "- **K-Nearest Neighbors:**\n",
    "  - True Negative: 11270, False Positive: 2475\n",
    "  - False Negative: 1822, True Positive: 11766\n",
    "\n",
    "- **Gradient Boosting:**\n",
    "  - True Negative: 11778, False Positive: 1967\n",
    "  - False Negative: 1229, True Positive: 12359\n",
    "\n",
    "- **XGBoost:**\n",
    "  - True Negative: 11625, False Positive: 2120\n",
    "  - False Negative: 1240, True Positive: 12348\n",
    "\n",
    "- **Random Forest:**\n",
    "  - True Negative: 11853, False Positive: 1892\n",
    "  - False Negative: 1269, True Positive: 12319"
   ]
  },
  {
   "cell_type": "code",
   "execution_count": null,
   "id": "a643ba48",
   "metadata": {},
   "outputs": [],
   "source": []
  }
 ],
 "metadata": {
  "colab": {
   "provenance": []
  },
  "kernelspec": {
   "display_name": "Python 3 (ipykernel)",
   "language": "python",
   "name": "python3"
  },
  "language_info": {
   "codemirror_mode": {
    "name": "ipython",
    "version": 3
   },
   "file_extension": ".py",
   "mimetype": "text/x-python",
   "name": "python",
   "nbconvert_exporter": "python",
   "pygments_lexer": "ipython3",
   "version": "3.9.13"
  }
 },
 "nbformat": 4,
 "nbformat_minor": 5
}
