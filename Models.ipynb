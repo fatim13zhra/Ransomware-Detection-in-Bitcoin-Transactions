{
 "cells": [
  {
   "cell_type": "code",
   "execution_count": 1,
   "id": "a194b715",
   "metadata": {},
   "outputs": [],
   "source": [
    "#Importing libraries\n",
    "import pandas as pd\n",
    "import numpy as np\n",
    "import matplotlib.pyplot as plt\n",
    "import seaborn as sns\n",
    "from sklearn.model_selection import train_test_split\n",
    "from sklearn.ensemble import RandomForestClassifier\n",
    "from sklearn.metrics import accuracy_score, classification_report, confusion_matrix\n",
    "from sklearn.metrics import precision_score, recall_score, f1_score\n",
    "from sklearn.preprocessing import LabelEncoder\n",
    "from sklearn.preprocessing import StandardScaler"
   ]
  },
  {
   "cell_type": "code",
   "execution_count": 2,
   "id": "10f5c1ec",
   "metadata": {},
   "outputs": [],
   "source": [
    "df = pd.read_csv(\"Cleaned_data.csv\")"
   ]
  },
  {
   "cell_type": "markdown",
   "id": "89e5fd2f",
   "metadata": {},
   "source": [
    "# Label Encoder"
   ]
  },
  {
   "cell_type": "code",
   "execution_count": 3,
   "id": "9275b9a1",
   "metadata": {},
   "outputs": [
    {
     "data": {
      "text/html": [
       "<div>\n",
       "<style scoped>\n",
       "    .dataframe tbody tr th:only-of-type {\n",
       "        vertical-align: middle;\n",
       "    }\n",
       "\n",
       "    .dataframe tbody tr th {\n",
       "        vertical-align: top;\n",
       "    }\n",
       "\n",
       "    .dataframe thead th {\n",
       "        text-align: right;\n",
       "    }\n",
       "</style>\n",
       "<table border=\"1\" class=\"dataframe\">\n",
       "  <thead>\n",
       "    <tr style=\"text-align: right;\">\n",
       "      <th></th>\n",
       "      <th>length</th>\n",
       "      <th>weight</th>\n",
       "      <th>count</th>\n",
       "      <th>looped</th>\n",
       "      <th>neighbors</th>\n",
       "      <th>income</th>\n",
       "      <th>label</th>\n",
       "    </tr>\n",
       "  </thead>\n",
       "  <tbody>\n",
       "    <tr>\n",
       "      <th>0</th>\n",
       "      <td>14</td>\n",
       "      <td>0.007812</td>\n",
       "      <td>1</td>\n",
       "      <td>0</td>\n",
       "      <td>2</td>\n",
       "      <td>2.440000e+08</td>\n",
       "      <td>1</td>\n",
       "    </tr>\n",
       "    <tr>\n",
       "      <th>1</th>\n",
       "      <td>2</td>\n",
       "      <td>0.750000</td>\n",
       "      <td>1</td>\n",
       "      <td>1</td>\n",
       "      <td>2</td>\n",
       "      <td>6.500000e+08</td>\n",
       "      <td>1</td>\n",
       "    </tr>\n",
       "    <tr>\n",
       "      <th>2</th>\n",
       "      <td>14</td>\n",
       "      <td>0.007812</td>\n",
       "      <td>1</td>\n",
       "      <td>0</td>\n",
       "      <td>2</td>\n",
       "      <td>4.089000e+09</td>\n",
       "      <td>0</td>\n",
       "    </tr>\n",
       "    <tr>\n",
       "      <th>3</th>\n",
       "      <td>2</td>\n",
       "      <td>1.000000</td>\n",
       "      <td>1</td>\n",
       "      <td>0</td>\n",
       "      <td>2</td>\n",
       "      <td>4.965000e+09</td>\n",
       "      <td>0</td>\n",
       "    </tr>\n",
       "    <tr>\n",
       "      <th>4</th>\n",
       "      <td>8</td>\n",
       "      <td>0.125000</td>\n",
       "      <td>1</td>\n",
       "      <td>0</td>\n",
       "      <td>2</td>\n",
       "      <td>2.700000e+08</td>\n",
       "      <td>1</td>\n",
       "    </tr>\n",
       "  </tbody>\n",
       "</table>\n",
       "</div>"
      ],
      "text/plain": [
       "   length    weight  count  looped  neighbors        income  label\n",
       "0      14  0.007812      1       0          2  2.440000e+08      1\n",
       "1       2  0.750000      1       1          2  6.500000e+08      1\n",
       "2      14  0.007812      1       0          2  4.089000e+09      0\n",
       "3       2  1.000000      1       0          2  4.965000e+09      0\n",
       "4       8  0.125000      1       0          2  2.700000e+08      1"
      ]
     },
     "execution_count": 3,
     "metadata": {},
     "output_type": "execute_result"
    }
   ],
   "source": [
    "# Create a label encoder object\n",
    "label_encoder = LabelEncoder()\n",
    "\n",
    "# Encode the labels\n",
    "df['label'] = label_encoder.fit_transform(df['label'])\n",
    "\n",
    "# Map 'white' to 0 and other values to 1\n",
    "df['label'] = df['label'].apply(lambda x: 0 if x == label_encoder.transform(['white'])[0] else 1)\n",
    "df.head()"
   ]
  },
  {
   "cell_type": "markdown",
   "id": "b085f039",
   "metadata": {},
   "source": [
    "# Train test split"
   ]
  },
  {
   "cell_type": "code",
   "execution_count": 4,
   "id": "004a9763",
   "metadata": {},
   "outputs": [],
   "source": [
    "X=df.drop(\"label\",axis=1)\n",
    "y=(df[\"label\"]>0).astype('int')"
   ]
  },
  {
   "cell_type": "code",
   "execution_count": 5,
   "id": "e131e53f",
   "metadata": {},
   "outputs": [],
   "source": [
    "from sklearn.model_selection import train_test_split\n",
    "X_train, X_test,y_train, y_test = train_test_split(X,y ,\n",
    "                                   random_state=42,\n",
    "                                   test_size=0.2,\n",
    "                                   shuffle=True)"
   ]
  },
  {
   "cell_type": "markdown",
   "id": "87b20e01",
   "metadata": {},
   "source": [
    "# Scaling the Data"
   ]
  },
  {
   "cell_type": "code",
   "execution_count": 6,
   "id": "aef597a6",
   "metadata": {},
   "outputs": [
    {
     "data": {
      "text/plain": [
       "StandardScaler()"
      ]
     },
     "execution_count": 6,
     "metadata": {},
     "output_type": "execute_result"
    }
   ],
   "source": [
    "scaler=StandardScaler()\n",
    "scaler.fit(X_train)"
   ]
  },
  {
   "cell_type": "code",
   "execution_count": 7,
   "id": "a3d542f6",
   "metadata": {},
   "outputs": [],
   "source": [
    "\n",
    "X_train_scaled=scaler.transform(X_train)\n",
    "X_test_scaled=scaler.transform(X_test)"
   ]
  },
  {
   "cell_type": "code",
   "execution_count": 8,
   "id": "8323089c",
   "metadata": {},
   "outputs": [],
   "source": [
    "\n",
    "X_train_scaled=pd.DataFrame(X_train_scaled,columns=X_train.columns)\n",
    "X_test_scaled=pd.DataFrame(X_test_scaled,columns=X_test.columns)"
   ]
  },
  {
   "cell_type": "code",
   "execution_count": 9,
   "id": "191749aa",
   "metadata": {},
   "outputs": [
    {
     "data": {
      "text/html": [
       "<div>\n",
       "<style scoped>\n",
       "    .dataframe tbody tr th:only-of-type {\n",
       "        vertical-align: middle;\n",
       "    }\n",
       "\n",
       "    .dataframe tbody tr th {\n",
       "        vertical-align: top;\n",
       "    }\n",
       "\n",
       "    .dataframe thead th {\n",
       "        text-align: right;\n",
       "    }\n",
       "</style>\n",
       "<table border=\"1\" class=\"dataframe\">\n",
       "  <thead>\n",
       "    <tr style=\"text-align: right;\">\n",
       "      <th></th>\n",
       "      <th>length</th>\n",
       "      <th>weight</th>\n",
       "      <th>count</th>\n",
       "      <th>looped</th>\n",
       "      <th>neighbors</th>\n",
       "      <th>income</th>\n",
       "    </tr>\n",
       "  </thead>\n",
       "  <tbody>\n",
       "    <tr>\n",
       "      <th>44015</th>\n",
       "      <td>144</td>\n",
       "      <td>4.993309e-04</td>\n",
       "      <td>6947</td>\n",
       "      <td>0</td>\n",
       "      <td>2</td>\n",
       "      <td>1.000000e+08</td>\n",
       "    </tr>\n",
       "    <tr>\n",
       "      <th>65783</th>\n",
       "      <td>42</td>\n",
       "      <td>1.614772e+00</td>\n",
       "      <td>16</td>\n",
       "      <td>0</td>\n",
       "      <td>2</td>\n",
       "      <td>2.000500e+08</td>\n",
       "    </tr>\n",
       "    <tr>\n",
       "      <th>532</th>\n",
       "      <td>144</td>\n",
       "      <td>3.062538e-03</td>\n",
       "      <td>1666</td>\n",
       "      <td>0</td>\n",
       "      <td>2</td>\n",
       "      <td>2.845646e+08</td>\n",
       "    </tr>\n",
       "    <tr>\n",
       "      <th>16521</th>\n",
       "      <td>28</td>\n",
       "      <td>8.854167e-02</td>\n",
       "      <td>2</td>\n",
       "      <td>0</td>\n",
       "      <td>2</td>\n",
       "      <td>1.150000e+08</td>\n",
       "    </tr>\n",
       "    <tr>\n",
       "      <th>68460</th>\n",
       "      <td>18</td>\n",
       "      <td>1.250000e-01</td>\n",
       "      <td>1</td>\n",
       "      <td>0</td>\n",
       "      <td>1</td>\n",
       "      <td>4.589000e+09</td>\n",
       "    </tr>\n",
       "    <tr>\n",
       "      <th>...</th>\n",
       "      <td>...</td>\n",
       "      <td>...</td>\n",
       "      <td>...</td>\n",
       "      <td>...</td>\n",
       "      <td>...</td>\n",
       "      <td>...</td>\n",
       "    </tr>\n",
       "    <tr>\n",
       "      <th>6265</th>\n",
       "      <td>4</td>\n",
       "      <td>2.666667e-01</td>\n",
       "      <td>2</td>\n",
       "      <td>0</td>\n",
       "      <td>2</td>\n",
       "      <td>4.000000e+08</td>\n",
       "    </tr>\n",
       "    <tr>\n",
       "      <th>54886</th>\n",
       "      <td>100</td>\n",
       "      <td>9.313226e-10</td>\n",
       "      <td>2</td>\n",
       "      <td>0</td>\n",
       "      <td>2</td>\n",
       "      <td>9.999000e+07</td>\n",
       "    </tr>\n",
       "    <tr>\n",
       "      <th>76820</th>\n",
       "      <td>144</td>\n",
       "      <td>1.289646e-02</td>\n",
       "      <td>3765</td>\n",
       "      <td>0</td>\n",
       "      <td>1</td>\n",
       "      <td>1.200000e+08</td>\n",
       "    </tr>\n",
       "    <tr>\n",
       "      <th>860</th>\n",
       "      <td>0</td>\n",
       "      <td>5.000000e-01</td>\n",
       "      <td>1</td>\n",
       "      <td>0</td>\n",
       "      <td>2</td>\n",
       "      <td>4.000000e+08</td>\n",
       "    </tr>\n",
       "    <tr>\n",
       "      <th>15795</th>\n",
       "      <td>144</td>\n",
       "      <td>7.949719e+00</td>\n",
       "      <td>2456</td>\n",
       "      <td>2435</td>\n",
       "      <td>19</td>\n",
       "      <td>2.287960e+09</td>\n",
       "    </tr>\n",
       "  </tbody>\n",
       "</table>\n",
       "<p>66260 rows × 6 columns</p>\n",
       "</div>"
      ],
      "text/plain": [
       "       length        weight  count  looped  neighbors        income\n",
       "44015     144  4.993309e-04   6947       0          2  1.000000e+08\n",
       "65783      42  1.614772e+00     16       0          2  2.000500e+08\n",
       "532       144  3.062538e-03   1666       0          2  2.845646e+08\n",
       "16521      28  8.854167e-02      2       0          2  1.150000e+08\n",
       "68460      18  1.250000e-01      1       0          1  4.589000e+09\n",
       "...       ...           ...    ...     ...        ...           ...\n",
       "6265        4  2.666667e-01      2       0          2  4.000000e+08\n",
       "54886     100  9.313226e-10      2       0          2  9.999000e+07\n",
       "76820     144  1.289646e-02   3765       0          1  1.200000e+08\n",
       "860         0  5.000000e-01      1       0          2  4.000000e+08\n",
       "15795     144  7.949719e+00   2456    2435         19  2.287960e+09\n",
       "\n",
       "[66260 rows x 6 columns]"
      ]
     },
     "execution_count": 9,
     "metadata": {},
     "output_type": "execute_result"
    }
   ],
   "source": [
    "X_train"
   ]
  },
  {
   "cell_type": "code",
   "execution_count": 10,
   "id": "61184018",
   "metadata": {},
   "outputs": [
    {
     "data": {
      "text/html": [
       "<div>\n",
       "<style scoped>\n",
       "    .dataframe tbody tr th:only-of-type {\n",
       "        vertical-align: middle;\n",
       "    }\n",
       "\n",
       "    .dataframe tbody tr th {\n",
       "        vertical-align: top;\n",
       "    }\n",
       "\n",
       "    .dataframe thead th {\n",
       "        text-align: right;\n",
       "    }\n",
       "</style>\n",
       "<table border=\"1\" class=\"dataframe\">\n",
       "  <thead>\n",
       "    <tr style=\"text-align: right;\">\n",
       "      <th></th>\n",
       "      <th>length</th>\n",
       "      <th>weight</th>\n",
       "      <th>count</th>\n",
       "      <th>looped</th>\n",
       "      <th>neighbors</th>\n",
       "      <th>income</th>\n",
       "    </tr>\n",
       "  </thead>\n",
       "  <tbody>\n",
       "    <tr>\n",
       "      <th>0</th>\n",
       "      <td>2.447314</td>\n",
       "      <td>-0.615189</td>\n",
       "      <td>6.328039</td>\n",
       "      <td>-0.126655</td>\n",
       "      <td>-0.000575</td>\n",
       "      <td>-0.029754</td>\n",
       "    </tr>\n",
       "    <tr>\n",
       "      <th>1</th>\n",
       "      <td>0.261856</td>\n",
       "      <td>1.160322</td>\n",
       "      <td>-0.272476</td>\n",
       "      <td>-0.126655</td>\n",
       "      <td>-0.000575</td>\n",
       "      <td>-0.029266</td>\n",
       "    </tr>\n",
       "    <tr>\n",
       "      <th>2</th>\n",
       "      <td>2.447314</td>\n",
       "      <td>-0.612370</td>\n",
       "      <td>1.298849</td>\n",
       "      <td>-0.126655</td>\n",
       "      <td>-0.000575</td>\n",
       "      <td>-0.028853</td>\n",
       "    </tr>\n",
       "    <tr>\n",
       "      <th>3</th>\n",
       "      <td>-0.038109</td>\n",
       "      <td>-0.518353</td>\n",
       "      <td>-0.285808</td>\n",
       "      <td>-0.126655</td>\n",
       "      <td>-0.000575</td>\n",
       "      <td>-0.029681</td>\n",
       "    </tr>\n",
       "    <tr>\n",
       "      <th>4</th>\n",
       "      <td>-0.252370</td>\n",
       "      <td>-0.478253</td>\n",
       "      <td>-0.286761</td>\n",
       "      <td>-0.126655</td>\n",
       "      <td>-0.470719</td>\n",
       "      <td>-0.007841</td>\n",
       "    </tr>\n",
       "    <tr>\n",
       "      <th>...</th>\n",
       "      <td>...</td>\n",
       "      <td>...</td>\n",
       "      <td>...</td>\n",
       "      <td>...</td>\n",
       "      <td>...</td>\n",
       "      <td>...</td>\n",
       "    </tr>\n",
       "    <tr>\n",
       "      <th>66255</th>\n",
       "      <td>-0.552335</td>\n",
       "      <td>-0.322436</td>\n",
       "      <td>-0.285808</td>\n",
       "      <td>-0.126655</td>\n",
       "      <td>-0.000575</td>\n",
       "      <td>-0.028290</td>\n",
       "    </tr>\n",
       "    <tr>\n",
       "      <th>66256</th>\n",
       "      <td>1.504567</td>\n",
       "      <td>-0.615738</td>\n",
       "      <td>-0.285808</td>\n",
       "      <td>-0.126655</td>\n",
       "      <td>-0.000575</td>\n",
       "      <td>-0.029755</td>\n",
       "    </tr>\n",
       "    <tr>\n",
       "      <th>66257</th>\n",
       "      <td>2.447314</td>\n",
       "      <td>-0.601553</td>\n",
       "      <td>3.297764</td>\n",
       "      <td>-0.126655</td>\n",
       "      <td>-0.470719</td>\n",
       "      <td>-0.029657</td>\n",
       "    </tr>\n",
       "    <tr>\n",
       "      <th>66258</th>\n",
       "      <td>-0.638039</td>\n",
       "      <td>-0.065797</td>\n",
       "      <td>-0.286761</td>\n",
       "      <td>-0.126655</td>\n",
       "      <td>-0.000575</td>\n",
       "      <td>-0.028290</td>\n",
       "    </tr>\n",
       "    <tr>\n",
       "      <th>66259</th>\n",
       "      <td>2.447314</td>\n",
       "      <td>8.128023</td>\n",
       "      <td>2.051180</td>\n",
       "      <td>6.285706</td>\n",
       "      <td>7.991875</td>\n",
       "      <td>-0.019074</td>\n",
       "    </tr>\n",
       "  </tbody>\n",
       "</table>\n",
       "<p>66260 rows × 6 columns</p>\n",
       "</div>"
      ],
      "text/plain": [
       "         length    weight     count    looped  neighbors    income\n",
       "0      2.447314 -0.615189  6.328039 -0.126655  -0.000575 -0.029754\n",
       "1      0.261856  1.160322 -0.272476 -0.126655  -0.000575 -0.029266\n",
       "2      2.447314 -0.612370  1.298849 -0.126655  -0.000575 -0.028853\n",
       "3     -0.038109 -0.518353 -0.285808 -0.126655  -0.000575 -0.029681\n",
       "4     -0.252370 -0.478253 -0.286761 -0.126655  -0.470719 -0.007841\n",
       "...         ...       ...       ...       ...        ...       ...\n",
       "66255 -0.552335 -0.322436 -0.285808 -0.126655  -0.000575 -0.028290\n",
       "66256  1.504567 -0.615738 -0.285808 -0.126655  -0.000575 -0.029755\n",
       "66257  2.447314 -0.601553  3.297764 -0.126655  -0.470719 -0.029657\n",
       "66258 -0.638039 -0.065797 -0.286761 -0.126655  -0.000575 -0.028290\n",
       "66259  2.447314  8.128023  2.051180  6.285706   7.991875 -0.019074\n",
       "\n",
       "[66260 rows x 6 columns]"
      ]
     },
     "execution_count": 10,
     "metadata": {},
     "output_type": "execute_result"
    }
   ],
   "source": [
    "X_train_scaled"
   ]
  },
  {
   "cell_type": "markdown",
   "id": "3374da5e",
   "metadata": {},
   "source": [
    "# ML Models "
   ]
  },
  {
   "cell_type": "code",
   "execution_count": 11,
   "id": "a5990f33",
   "metadata": {},
   "outputs": [],
   "source": [
    "from sklearn.model_selection import cross_val_score, GridSearchCV\n",
    "from sklearn.pipeline import make_pipeline\n",
    "from sklearn.preprocessing import StandardScaler\n",
    "from sklearn.ensemble import GradientBoostingClassifier\n",
    "from xgboost import XGBClassifier\n",
    "from sklearn.svm import SVC\n",
    "from sklearn.linear_model import LogisticRegression\n",
    "from sklearn.neighbors import KNeighborsClassifier\n",
    "from sklearn.ensemble import RandomForestClassifier"
   ]
  },
  {
   "cell_type": "code",
   "execution_count": 12,
   "id": "264bce27",
   "metadata": {},
   "outputs": [],
   "source": [
    "# Support Vector Machine\n",
    "svm_classifier = make_pipeline(StandardScaler(), SVC())\n",
    "svm_classifier.fit(X_train, y_train)\n",
    "svm_pred = svm_classifier.predict(X_test)"
   ]
  },
  {
   "cell_type": "code",
   "execution_count": 13,
   "id": "85aa472b",
   "metadata": {},
   "outputs": [
    {
     "name": "stderr",
     "output_type": "stream",
     "text": [
      "C:\\Users\\SALMALIDAME\\anaconda3\\lib\\site-packages\\sklearn\\neighbors\\_classification.py:228: FutureWarning: Unlike other reduction functions (e.g. `skew`, `kurtosis`), the default behavior of `mode` typically preserves the axis it acts along. In SciPy 1.11.0, this behavior will change: the default value of `keepdims` will become False, the `axis` over which the statistic is taken will be eliminated, and the value None will no longer be accepted. Set `keepdims` to True or False to avoid this warning.\n",
      "  mode, _ = stats.mode(_y[neigh_ind, k], axis=1)\n",
      "C:\\Users\\SALMALIDAME\\anaconda3\\lib\\site-packages\\sklearn\\neighbors\\_classification.py:228: FutureWarning: Unlike other reduction functions (e.g. `skew`, `kurtosis`), the default behavior of `mode` typically preserves the axis it acts along. In SciPy 1.11.0, this behavior will change: the default value of `keepdims` will become False, the `axis` over which the statistic is taken will be eliminated, and the value None will no longer be accepted. Set `keepdims` to True or False to avoid this warning.\n",
      "  mode, _ = stats.mode(_y[neigh_ind, k], axis=1)\n",
      "C:\\Users\\SALMALIDAME\\anaconda3\\lib\\site-packages\\sklearn\\neighbors\\_classification.py:228: FutureWarning: Unlike other reduction functions (e.g. `skew`, `kurtosis`), the default behavior of `mode` typically preserves the axis it acts along. In SciPy 1.11.0, this behavior will change: the default value of `keepdims` will become False, the `axis` over which the statistic is taken will be eliminated, and the value None will no longer be accepted. Set `keepdims` to True or False to avoid this warning.\n",
      "  mode, _ = stats.mode(_y[neigh_ind, k], axis=1)\n",
      "C:\\Users\\SALMALIDAME\\anaconda3\\lib\\site-packages\\sklearn\\neighbors\\_classification.py:228: FutureWarning: Unlike other reduction functions (e.g. `skew`, `kurtosis`), the default behavior of `mode` typically preserves the axis it acts along. In SciPy 1.11.0, this behavior will change: the default value of `keepdims` will become False, the `axis` over which the statistic is taken will be eliminated, and the value None will no longer be accepted. Set `keepdims` to True or False to avoid this warning.\n",
      "  mode, _ = stats.mode(_y[neigh_ind, k], axis=1)\n",
      "C:\\Users\\SALMALIDAME\\anaconda3\\lib\\site-packages\\sklearn\\neighbors\\_classification.py:228: FutureWarning: Unlike other reduction functions (e.g. `skew`, `kurtosis`), the default behavior of `mode` typically preserves the axis it acts along. In SciPy 1.11.0, this behavior will change: the default value of `keepdims` will become False, the `axis` over which the statistic is taken will be eliminated, and the value None will no longer be accepted. Set `keepdims` to True or False to avoid this warning.\n",
      "  mode, _ = stats.mode(_y[neigh_ind, k], axis=1)\n",
      "C:\\Users\\SALMALIDAME\\anaconda3\\lib\\site-packages\\sklearn\\neighbors\\_classification.py:228: FutureWarning: Unlike other reduction functions (e.g. `skew`, `kurtosis`), the default behavior of `mode` typically preserves the axis it acts along. In SciPy 1.11.0, this behavior will change: the default value of `keepdims` will become False, the `axis` over which the statistic is taken will be eliminated, and the value None will no longer be accepted. Set `keepdims` to True or False to avoid this warning.\n",
      "  mode, _ = stats.mode(_y[neigh_ind, k], axis=1)\n",
      "C:\\Users\\SALMALIDAME\\anaconda3\\lib\\site-packages\\sklearn\\neighbors\\_classification.py:228: FutureWarning: Unlike other reduction functions (e.g. `skew`, `kurtosis`), the default behavior of `mode` typically preserves the axis it acts along. In SciPy 1.11.0, this behavior will change: the default value of `keepdims` will become False, the `axis` over which the statistic is taken will be eliminated, and the value None will no longer be accepted. Set `keepdims` to True or False to avoid this warning.\n",
      "  mode, _ = stats.mode(_y[neigh_ind, k], axis=1)\n",
      "C:\\Users\\SALMALIDAME\\anaconda3\\lib\\site-packages\\sklearn\\neighbors\\_classification.py:228: FutureWarning: Unlike other reduction functions (e.g. `skew`, `kurtosis`), the default behavior of `mode` typically preserves the axis it acts along. In SciPy 1.11.0, this behavior will change: the default value of `keepdims` will become False, the `axis` over which the statistic is taken will be eliminated, and the value None will no longer be accepted. Set `keepdims` to True or False to avoid this warning.\n",
      "  mode, _ = stats.mode(_y[neigh_ind, k], axis=1)\n",
      "C:\\Users\\SALMALIDAME\\anaconda3\\lib\\site-packages\\sklearn\\neighbors\\_classification.py:228: FutureWarning: Unlike other reduction functions (e.g. `skew`, `kurtosis`), the default behavior of `mode` typically preserves the axis it acts along. In SciPy 1.11.0, this behavior will change: the default value of `keepdims` will become False, the `axis` over which the statistic is taken will be eliminated, and the value None will no longer be accepted. Set `keepdims` to True or False to avoid this warning.\n",
      "  mode, _ = stats.mode(_y[neigh_ind, k], axis=1)\n",
      "C:\\Users\\SALMALIDAME\\anaconda3\\lib\\site-packages\\sklearn\\neighbors\\_classification.py:228: FutureWarning: Unlike other reduction functions (e.g. `skew`, `kurtosis`), the default behavior of `mode` typically preserves the axis it acts along. In SciPy 1.11.0, this behavior will change: the default value of `keepdims` will become False, the `axis` over which the statistic is taken will be eliminated, and the value None will no longer be accepted. Set `keepdims` to True or False to avoid this warning.\n",
      "  mode, _ = stats.mode(_y[neigh_ind, k], axis=1)\n",
      "C:\\Users\\SALMALIDAME\\anaconda3\\lib\\site-packages\\sklearn\\neighbors\\_classification.py:228: FutureWarning: Unlike other reduction functions (e.g. `skew`, `kurtosis`), the default behavior of `mode` typically preserves the axis it acts along. In SciPy 1.11.0, this behavior will change: the default value of `keepdims` will become False, the `axis` over which the statistic is taken will be eliminated, and the value None will no longer be accepted. Set `keepdims` to True or False to avoid this warning.\n",
      "  mode, _ = stats.mode(_y[neigh_ind, k], axis=1)\n",
      "C:\\Users\\SALMALIDAME\\anaconda3\\lib\\site-packages\\sklearn\\neighbors\\_classification.py:228: FutureWarning: Unlike other reduction functions (e.g. `skew`, `kurtosis`), the default behavior of `mode` typically preserves the axis it acts along. In SciPy 1.11.0, this behavior will change: the default value of `keepdims` will become False, the `axis` over which the statistic is taken will be eliminated, and the value None will no longer be accepted. Set `keepdims` to True or False to avoid this warning.\n",
      "  mode, _ = stats.mode(_y[neigh_ind, k], axis=1)\n",
      "C:\\Users\\SALMALIDAME\\anaconda3\\lib\\site-packages\\sklearn\\neighbors\\_classification.py:228: FutureWarning: Unlike other reduction functions (e.g. `skew`, `kurtosis`), the default behavior of `mode` typically preserves the axis it acts along. In SciPy 1.11.0, this behavior will change: the default value of `keepdims` will become False, the `axis` over which the statistic is taken will be eliminated, and the value None will no longer be accepted. Set `keepdims` to True or False to avoid this warning.\n",
      "  mode, _ = stats.mode(_y[neigh_ind, k], axis=1)\n",
      "C:\\Users\\SALMALIDAME\\anaconda3\\lib\\site-packages\\sklearn\\neighbors\\_classification.py:228: FutureWarning: Unlike other reduction functions (e.g. `skew`, `kurtosis`), the default behavior of `mode` typically preserves the axis it acts along. In SciPy 1.11.0, this behavior will change: the default value of `keepdims` will become False, the `axis` over which the statistic is taken will be eliminated, and the value None will no longer be accepted. Set `keepdims` to True or False to avoid this warning.\n",
      "  mode, _ = stats.mode(_y[neigh_ind, k], axis=1)\n",
      "C:\\Users\\SALMALIDAME\\anaconda3\\lib\\site-packages\\sklearn\\neighbors\\_classification.py:228: FutureWarning: Unlike other reduction functions (e.g. `skew`, `kurtosis`), the default behavior of `mode` typically preserves the axis it acts along. In SciPy 1.11.0, this behavior will change: the default value of `keepdims` will become False, the `axis` over which the statistic is taken will be eliminated, and the value None will no longer be accepted. Set `keepdims` to True or False to avoid this warning.\n",
      "  mode, _ = stats.mode(_y[neigh_ind, k], axis=1)\n"
     ]
    },
    {
     "name": "stderr",
     "output_type": "stream",
     "text": [
      "C:\\Users\\SALMALIDAME\\anaconda3\\lib\\site-packages\\sklearn\\neighbors\\_classification.py:228: FutureWarning: Unlike other reduction functions (e.g. `skew`, `kurtosis`), the default behavior of `mode` typically preserves the axis it acts along. In SciPy 1.11.0, this behavior will change: the default value of `keepdims` will become False, the `axis` over which the statistic is taken will be eliminated, and the value None will no longer be accepted. Set `keepdims` to True or False to avoid this warning.\n",
      "  mode, _ = stats.mode(_y[neigh_ind, k], axis=1)\n",
      "C:\\Users\\SALMALIDAME\\anaconda3\\lib\\site-packages\\sklearn\\neighbors\\_classification.py:228: FutureWarning: Unlike other reduction functions (e.g. `skew`, `kurtosis`), the default behavior of `mode` typically preserves the axis it acts along. In SciPy 1.11.0, this behavior will change: the default value of `keepdims` will become False, the `axis` over which the statistic is taken will be eliminated, and the value None will no longer be accepted. Set `keepdims` to True or False to avoid this warning.\n",
      "  mode, _ = stats.mode(_y[neigh_ind, k], axis=1)\n",
      "C:\\Users\\SALMALIDAME\\anaconda3\\lib\\site-packages\\sklearn\\neighbors\\_classification.py:228: FutureWarning: Unlike other reduction functions (e.g. `skew`, `kurtosis`), the default behavior of `mode` typically preserves the axis it acts along. In SciPy 1.11.0, this behavior will change: the default value of `keepdims` will become False, the `axis` over which the statistic is taken will be eliminated, and the value None will no longer be accepted. Set `keepdims` to True or False to avoid this warning.\n",
      "  mode, _ = stats.mode(_y[neigh_ind, k], axis=1)\n",
      "C:\\Users\\SALMALIDAME\\anaconda3\\lib\\site-packages\\sklearn\\neighbors\\_classification.py:228: FutureWarning: Unlike other reduction functions (e.g. `skew`, `kurtosis`), the default behavior of `mode` typically preserves the axis it acts along. In SciPy 1.11.0, this behavior will change: the default value of `keepdims` will become False, the `axis` over which the statistic is taken will be eliminated, and the value None will no longer be accepted. Set `keepdims` to True or False to avoid this warning.\n",
      "  mode, _ = stats.mode(_y[neigh_ind, k], axis=1)\n",
      "C:\\Users\\SALMALIDAME\\anaconda3\\lib\\site-packages\\sklearn\\neighbors\\_classification.py:228: FutureWarning: Unlike other reduction functions (e.g. `skew`, `kurtosis`), the default behavior of `mode` typically preserves the axis it acts along. In SciPy 1.11.0, this behavior will change: the default value of `keepdims` will become False, the `axis` over which the statistic is taken will be eliminated, and the value None will no longer be accepted. Set `keepdims` to True or False to avoid this warning.\n",
      "  mode, _ = stats.mode(_y[neigh_ind, k], axis=1)\n",
      "C:\\Users\\SALMALIDAME\\anaconda3\\lib\\site-packages\\sklearn\\neighbors\\_classification.py:228: FutureWarning: Unlike other reduction functions (e.g. `skew`, `kurtosis`), the default behavior of `mode` typically preserves the axis it acts along. In SciPy 1.11.0, this behavior will change: the default value of `keepdims` will become False, the `axis` over which the statistic is taken will be eliminated, and the value None will no longer be accepted. Set `keepdims` to True or False to avoid this warning.\n",
      "  mode, _ = stats.mode(_y[neigh_ind, k], axis=1)\n"
     ]
    }
   ],
   "source": [
    "\n",
    "# K-Nearest Neighbors\n",
    "knn_classifier = make_pipeline(StandardScaler(), KNeighborsClassifier())\n",
    "knn_params = {'kneighborsclassifier__n_neighbors': [3, 5, 7, 9]}\n",
    "knn_grid = GridSearchCV(knn_classifier, knn_params, cv=5)\n",
    "knn_grid.fit(X_train, y_train)\n",
    "knn_pred = knn_grid.predict(X_test)"
   ]
  },
  {
   "cell_type": "code",
   "execution_count": 14,
   "id": "c7e8fcbe",
   "metadata": {},
   "outputs": [],
   "source": [
    "\n",
    "# Random Forest\n",
    "rf_classifier = RandomForestClassifier()\n",
    "rf_params = {'n_estimators': [50, 100, 200], 'max_depth': [None, 10, 20, 30], 'min_samples_split': [2, 5, 10]}\n",
    "rf_grid = GridSearchCV(rf_classifier, rf_params, cv=5)\n",
    "rf_grid.fit(X_train, y_train)\n",
    "rf_pred = rf_grid.predict(X_test)"
   ]
  },
  {
   "cell_type": "code",
   "execution_count": 15,
   "id": "0a1efbb5",
   "metadata": {},
   "outputs": [],
   "source": [
    "\n",
    "# Gradient Boosting\n",
    "gb_classifier = GradientBoostingClassifier()\n",
    "gb_params = {'n_estimators': [50, 100, 200], 'learning_rate': [0.01, 0.1, 0.2]}\n",
    "gb_grid = GridSearchCV(gb_classifier, gb_params, cv=5)\n",
    "gb_grid.fit(X_train, y_train)\n",
    "gb_pred = gb_grid.predict(X_test)"
   ]
  },
  {
   "cell_type": "code",
   "execution_count": 16,
   "id": "cd4114b1",
   "metadata": {},
   "outputs": [],
   "source": [
    "\n",
    "# XGBoost\n",
    "xgb_classifier = XGBClassifier()\n",
    "xgb_params = {'n_estimators': [50, 100, 200], 'learning_rate': [0.01, 0.1, 0.2]}\n",
    "xgb_grid = GridSearchCV(xgb_classifier, xgb_params, cv=5)\n",
    "xgb_grid.fit(X_train, y_train)\n",
    "xgb_pred = xgb_grid.predict(X_test)"
   ]
  },
  {
   "cell_type": "code",
   "execution_count": 17,
   "id": "202bb374",
   "metadata": {},
   "outputs": [],
   "source": [
    "\n",
    "# Logistic Regression\n",
    "lr_classifier = make_pipeline(StandardScaler(), LogisticRegression())\n",
    "lr_params = {'logisticregression__C': [0.001, 0.01, 0.1, 1, 10, 100]}\n",
    "lr_grid = GridSearchCV(lr_classifier, lr_params, cv=5)\n",
    "lr_grid.fit(X_train, y_train)\n",
    "lr_pred = lr_grid.predict(X_test)"
   ]
  },
  {
   "cell_type": "markdown",
   "id": "b96cd2c9",
   "metadata": {},
   "source": [
    "# Evaluation "
   ]
  },
  {
   "cell_type": "code",
   "execution_count": 18,
   "id": "8af7fd0d",
   "metadata": {},
   "outputs": [
    {
     "name": "stdout",
     "output_type": "stream",
     "text": [
      "Logistic Regression:\n",
      "Accuracy: 0.8041772304720511\n",
      "Classification Report:\n",
      "              precision    recall  f1-score   support\n",
      "\n",
      "           0       0.88      0.71      0.78      8290\n",
      "           1       0.75      0.90      0.82      8276\n",
      "\n",
      "    accuracy                           0.80     16566\n",
      "   macro avg       0.82      0.80      0.80     16566\n",
      "weighted avg       0.82      0.80      0.80     16566\n",
      "\n",
      "Confusion Matrix:\n",
      "[[5845 2445]\n",
      " [ 799 7477]]\n"
     ]
    }
   ],
   "source": [
    "# Evaluate Logistic Regression\n",
    "print(\"Logistic Regression:\")\n",
    "print(f'Accuracy: {accuracy_score(y_test, lr_pred)}')\n",
    "print(f'Classification Report:\\n{classification_report(y_test, lr_pred)}')\n",
    "print(f'Confusion Matrix:\\n{confusion_matrix(y_test, lr_pred)}')"
   ]
  },
  {
   "cell_type": "code",
   "execution_count": 19,
   "id": "17ec2a40",
   "metadata": {},
   "outputs": [
    {
     "name": "stdout",
     "output_type": "stream",
     "text": [
      "_______________________________________________________\n",
      "Support Vector Machine:\n",
      "Accuracy: 0.7907159241820596\n",
      "Classification Report:\n",
      "              precision    recall  f1-score   support\n",
      "\n",
      "           0       0.83      0.73      0.78      8290\n",
      "           1       0.76      0.85      0.80      8276\n",
      "\n",
      "    accuracy                           0.79     16566\n",
      "   macro avg       0.80      0.79      0.79     16566\n",
      "weighted avg       0.80      0.79      0.79     16566\n",
      "\n",
      "Confusion Matrix:\n",
      "[[6037 2253]\n",
      " [1214 7062]]\n",
      "_______________________________________________________\n"
     ]
    }
   ],
   "source": [
    "\n",
    "print('_'*55)\n",
    "# Evaluate Support Vector Machine\n",
    "print(\"Support Vector Machine:\")\n",
    "print(f'Accuracy: {accuracy_score(y_test, svm_pred)}')\n",
    "print(f'Classification Report:\\n{classification_report(y_test, svm_pred)}')\n",
    "print(f'Confusion Matrix:\\n{confusion_matrix(y_test, svm_pred)}')\n",
    "print('_'*55)"
   ]
  },
  {
   "cell_type": "code",
   "execution_count": 20,
   "id": "61bd2c88",
   "metadata": {},
   "outputs": [
    {
     "name": "stdout",
     "output_type": "stream",
     "text": [
      "K-Nearest Neighbors:\n",
      "Accuracy: 0.849933598937583\n",
      "Classification Report:\n",
      "              precision    recall  f1-score   support\n",
      "\n",
      "           0       0.87      0.83      0.85      8290\n",
      "           1       0.84      0.87      0.85      8276\n",
      "\n",
      "    accuracy                           0.85     16566\n",
      "   macro avg       0.85      0.85      0.85     16566\n",
      "weighted avg       0.85      0.85      0.85     16566\n",
      "\n",
      "Confusion Matrix:\n",
      "[[6866 1424]\n",
      " [1062 7214]]\n",
      "_______________________________________________________\n"
     ]
    }
   ],
   "source": [
    "\n",
    "# Evaluate K-Nearest Neighbors\n",
    "print(\"K-Nearest Neighbors:\")\n",
    "print(f'Accuracy: {accuracy_score(y_test, knn_pred)}')\n",
    "print(f'Classification Report:\\n{classification_report(y_test, knn_pred)}')\n",
    "print(f'Confusion Matrix:\\n{confusion_matrix(y_test, knn_pred)}')\n",
    "print('_'*55)"
   ]
  },
  {
   "cell_type": "code",
   "execution_count": 21,
   "id": "dab27d15",
   "metadata": {},
   "outputs": [
    {
     "name": "stdout",
     "output_type": "stream",
     "text": [
      "Random Forest:\n",
      "Accuracy: 0.8872992876976941\n",
      "Classification Report:\n",
      "              precision    recall  f1-score   support\n",
      "\n",
      "           0       0.91      0.86      0.88      8290\n",
      "           1       0.87      0.91      0.89      8276\n",
      "\n",
      "    accuracy                           0.89     16566\n",
      "   macro avg       0.89      0.89      0.89     16566\n",
      "weighted avg       0.89      0.89      0.89     16566\n",
      "\n",
      "Confusion Matrix:\n",
      "[[7151 1139]\n",
      " [ 728 7548]]\n",
      "_______________________________________________________\n"
     ]
    }
   ],
   "source": [
    "\n",
    "# Evaluate Random Forest\n",
    "print(\"Random Forest:\")\n",
    "print(f'Accuracy: {accuracy_score(y_test, rf_pred)}')\n",
    "print(f'Classification Report:\\n{classification_report(y_test, rf_pred)}')\n",
    "print(f'Confusion Matrix:\\n{confusion_matrix(y_test, rf_pred)}')\n",
    "print('_'*55)"
   ]
  },
  {
   "cell_type": "code",
   "execution_count": 22,
   "id": "f5ceee64",
   "metadata": {},
   "outputs": [
    {
     "name": "stdout",
     "output_type": "stream",
     "text": [
      "Gradient Boosting:\n",
      "Accuracy: 0.8793311602076542\n",
      "Classification Report:\n",
      "              precision    recall  f1-score   support\n",
      "\n",
      "           0       0.90      0.85      0.88      8290\n",
      "           1       0.86      0.91      0.88      8276\n",
      "\n",
      "    accuracy                           0.88     16566\n",
      "   macro avg       0.88      0.88      0.88     16566\n",
      "weighted avg       0.88      0.88      0.88     16566\n",
      "\n",
      "Confusion Matrix:\n",
      "[[7046 1244]\n",
      " [ 755 7521]]\n",
      "_______________________________________________________\n"
     ]
    }
   ],
   "source": [
    "\n",
    "# Evaluate Gradient Boosting\n",
    "print(\"Gradient Boosting:\")\n",
    "print(f'Accuracy: {accuracy_score(y_test, gb_pred)}')\n",
    "print(f'Classification Report:\\n{classification_report(y_test, gb_pred)}')\n",
    "print(f'Confusion Matrix:\\n{confusion_matrix(y_test, gb_pred)}')\n",
    "print('_'*55)"
   ]
  },
  {
   "cell_type": "code",
   "execution_count": 23,
   "id": "7cc11f32",
   "metadata": {},
   "outputs": [
    {
     "name": "stdout",
     "output_type": "stream",
     "text": [
      "XGBoost:\n",
      "Accuracy: 0.8978630930822166\n",
      "Classification Report:\n",
      "              precision    recall  f1-score   support\n",
      "\n",
      "           0       0.91      0.88      0.90      8290\n",
      "           1       0.88      0.92      0.90      8276\n",
      "\n",
      "    accuracy                           0.90     16566\n",
      "   macro avg       0.90      0.90      0.90     16566\n",
      "weighted avg       0.90      0.90      0.90     16566\n",
      "\n",
      "Confusion Matrix:\n",
      "[[7277 1013]\n",
      " [ 679 7597]]\n"
     ]
    }
   ],
   "source": [
    "\n",
    "# Evaluate XGBoost\n",
    "print(\"XGBoost:\")\n",
    "print(f'Accuracy: {accuracy_score(y_test, xgb_pred)}')\n",
    "print(f'Classification Report:\\n{classification_report(y_test, xgb_pred)}')\n",
    "print(f'Confusion Matrix:\\n{confusion_matrix(y_test, xgb_pred)}')\n"
   ]
  },
  {
   "cell_type": "code",
   "execution_count": 24,
   "id": "1c8ffcb6",
   "metadata": {},
   "outputs": [],
   "source": [
    "models = ['Logistic Regression', 'Support Vector Machine', 'K-Nearest Neighbors', 'Gradient Boosting', 'XGBoost', 'Random Forest']\n",
    "\n",
    "predictions = [lr_pred, svm_pred, knn_pred, gb_pred, xgb_pred, rf_pred]\n"
   ]
  },
  {
   "cell_type": "code",
   "execution_count": 25,
   "id": "05500677",
   "metadata": {},
   "outputs": [],
   "source": [
    "# Create a DataFrame for better visualization\n",
    "metrics_data = {\n",
    "    'Model': models,\n",
    "    'Accuracy': [accuracy_score(y_test, pred) for pred in predictions],\n",
    "    'Precision': [precision_score(y_test, pred, average='weighted') for pred in predictions],\n",
    "    'Recall': [recall_score(y_test, pred, average='weighted') for pred in predictions],\n",
    "    'F1 Score': [f1_score(y_test, pred, average='weighted') for pred in predictions]\n",
    "}"
   ]
  },
  {
   "cell_type": "code",
   "execution_count": 26,
   "id": "834f10a7",
   "metadata": {},
   "outputs": [
    {
     "name": "stdout",
     "output_type": "stream",
     "text": [
      "Metrics Table:\n"
     ]
    },
    {
     "data": {
      "text/html": [
       "<div>\n",
       "<style scoped>\n",
       "    .dataframe tbody tr th:only-of-type {\n",
       "        vertical-align: middle;\n",
       "    }\n",
       "\n",
       "    .dataframe tbody tr th {\n",
       "        vertical-align: top;\n",
       "    }\n",
       "\n",
       "    .dataframe thead th {\n",
       "        text-align: right;\n",
       "    }\n",
       "</style>\n",
       "<table border=\"1\" class=\"dataframe\">\n",
       "  <thead>\n",
       "    <tr style=\"text-align: right;\">\n",
       "      <th></th>\n",
       "      <th>Model</th>\n",
       "      <th>Accuracy</th>\n",
       "      <th>Precision</th>\n",
       "      <th>Recall</th>\n",
       "      <th>F1 Score</th>\n",
       "    </tr>\n",
       "  </thead>\n",
       "  <tbody>\n",
       "    <tr>\n",
       "      <th>0</th>\n",
       "      <td>Logistic Regression</td>\n",
       "      <td>0.804177</td>\n",
       "      <td>0.816713</td>\n",
       "      <td>0.804177</td>\n",
       "      <td>0.802242</td>\n",
       "    </tr>\n",
       "    <tr>\n",
       "      <th>1</th>\n",
       "      <td>Support Vector Machine</td>\n",
       "      <td>0.790716</td>\n",
       "      <td>0.795385</td>\n",
       "      <td>0.790716</td>\n",
       "      <td>0.789901</td>\n",
       "    </tr>\n",
       "    <tr>\n",
       "      <th>2</th>\n",
       "      <td>K-Nearest Neighbors</td>\n",
       "      <td>0.849934</td>\n",
       "      <td>0.850609</td>\n",
       "      <td>0.849934</td>\n",
       "      <td>0.849865</td>\n",
       "    </tr>\n",
       "    <tr>\n",
       "      <th>3</th>\n",
       "      <td>Gradient Boosting</td>\n",
       "      <td>0.879331</td>\n",
       "      <td>0.880664</td>\n",
       "      <td>0.879331</td>\n",
       "      <td>0.879229</td>\n",
       "    </tr>\n",
       "    <tr>\n",
       "      <th>4</th>\n",
       "      <td>XGBoost</td>\n",
       "      <td>0.897863</td>\n",
       "      <td>0.898515</td>\n",
       "      <td>0.897863</td>\n",
       "      <td>0.897823</td>\n",
       "    </tr>\n",
       "    <tr>\n",
       "      <th>5</th>\n",
       "      <td>Random Forest</td>\n",
       "      <td>0.887299</td>\n",
       "      <td>0.888260</td>\n",
       "      <td>0.887299</td>\n",
       "      <td>0.887232</td>\n",
       "    </tr>\n",
       "  </tbody>\n",
       "</table>\n",
       "</div>"
      ],
      "text/plain": [
       "                    Model  Accuracy  Precision    Recall  F1 Score\n",
       "0     Logistic Regression  0.804177   0.816713  0.804177  0.802242\n",
       "1  Support Vector Machine  0.790716   0.795385  0.790716  0.789901\n",
       "2     K-Nearest Neighbors  0.849934   0.850609  0.849934  0.849865\n",
       "3       Gradient Boosting  0.879331   0.880664  0.879331  0.879229\n",
       "4                 XGBoost  0.897863   0.898515  0.897863  0.897823\n",
       "5           Random Forest  0.887299   0.888260  0.887299  0.887232"
      ]
     },
     "execution_count": 26,
     "metadata": {},
     "output_type": "execute_result"
    }
   ],
   "source": [
    "metrics_table = pd.DataFrame(metrics_data)\n",
    "print(\"Metrics Table:\")\n",
    "metrics_table"
   ]
  },
  {
   "cell_type": "code",
   "execution_count": 27,
   "id": "82afb95c",
   "metadata": {},
   "outputs": [
    {
     "name": "stdout",
     "output_type": "stream",
     "text": [
      "Confusion Matrix - Logistic Regression:\n",
      "\n",
      "                Predicted Negative   Predicted Positive\n",
      "Actual Negative      5845                  2445\n",
      "Actual Positive      799                  7477\n",
      "\n",
      "Confusion Matrix - Support Vector Machine:\n",
      "\n",
      "                Predicted Negative   Predicted Positive\n",
      "Actual Negative      6037                  2253\n",
      "Actual Positive      1214                  7062\n",
      "\n",
      "Confusion Matrix - K-Nearest Neighbors:\n",
      "\n",
      "                Predicted Negative   Predicted Positive\n",
      "Actual Negative      6866                  1424\n",
      "Actual Positive      1062                  7214\n",
      "\n",
      "Confusion Matrix - Gradient Boosting:\n",
      "\n",
      "                Predicted Negative   Predicted Positive\n",
      "Actual Negative      7151                  1139\n",
      "Actual Positive      728                  7548\n",
      "\n",
      "Confusion Matrix - XGBoost:\n",
      "\n",
      "                Predicted Negative   Predicted Positive\n",
      "Actual Negative      7046                  1244\n",
      "Actual Positive      755                  7521\n",
      "\n",
      "Confusion Matrix - Random Forest:\n",
      "\n",
      "                Predicted Negative   Predicted Positive\n",
      "Actual Negative      7277                  1013\n",
      "Actual Positive      679                  7597\n",
      "\n"
     ]
    }
   ],
   "source": [
    "true_labels = y_test\n",
    "predicted_labels = [lr_pred, svm_pred, knn_pred, rf_pred, gb_pred, xgb_pred]\n",
    "\n",
    "# Print confusion matrix for each model\n",
    "for i, preds in enumerate(predicted_labels):\n",
    "    model_name = models[i]\n",
    "    cm = confusion_matrix(true_labels, preds)\n",
    "\n",
    "    print(f\"Confusion Matrix - {model_name}:\\n\")\n",
    "    print(f\"                Predicted Negative   Predicted Positive\")\n",
    "    print(f\"Actual Negative      {cm[0, 0]}                  {cm[0, 1]}\")\n",
    "    print(f\"Actual Positive      {cm[1, 0]}                  {cm[1, 1]}\\n\")"
   ]
  },
  {
   "cell_type": "code",
   "execution_count": 28,
   "id": "c8693969",
   "metadata": {},
   "outputs": [
    {
     "data": {
      "image/png": "[encoded data removed]",
      "text/plain": [
       "<Figure size 1500x1000 with 6 Axes>"
      ]
     },
     "metadata": {},
     "output_type": "display_data"
    }
   ],
   "source": [
    "# Plot confusion matrix for each model\n",
    "plt.figure(figsize=(15, 10))\n",
    "\n",
    "for i, preds in enumerate(predicted_labels, 1):\n",
    "    plt.subplot(2, 3, i)\n",
    "    cm = confusion_matrix(true_labels, preds)\n",
    "    sns.heatmap(cm, annot=True, fmt='d', cmap='Blues', cbar=False,\n",
    "                xticklabels=['Predicted Negative', 'Predicted Positive'],\n",
    "                yticklabels=['Actual Negative', 'Actual Positive'])\n",
    "    plt.title(f'Confusion Matrix - {models[i-1]}')\n",
    "\n",
    "plt.tight_layout()\n",
    "plt.show()"
   ]
  },
  {
   "cell_type": "code",
   "execution_count": 29,
   "id": "1ef018bb",
   "metadata": {},
   "outputs": [
    {
     "data": {
      "image/png": "[encoded data removed]",
      "text/plain": [
       "<Figure size 1800x600 with 1 Axes>"
      ]
     },
     "metadata": {},
     "output_type": "display_data"
    }
   ],
   "source": [
    "# Plot bar chart for Accuracy\n",
    "plt.figure(figsize=(18,6))\n",
    "\n",
    "sns.barplot(x=models, y=metrics_table['Accuracy'])\n",
    "plt.title('Model Accuracy Comparison')\n",
    "plt.xlabel('Model')\n",
    "plt.ylabel('Accuracy')\n",
    "plt.xticks(rotation='vertical')  # Rotate x-axis labels vertically\n",
    "plt.show()"
   ]
  },
  {
   "cell_type": "code",
   "execution_count": 30,
   "id": "6f462de1",
   "metadata": {},
   "outputs": [
    {
     "data": {
      "image/png": "[encoded data removed]",
      "text/plain": [
       "<Figure size 1000x600 with 1 Axes>"
      ]
     },
     "metadata": {},
     "output_type": "display_data"
    }
   ],
   "source": [
    "# Plot bar chart for Precision\n",
    "plt.figure(figsize=(10, 6))\n",
    "\n",
    "sns.barplot(x=models, y=metrics_table['Precision'])\n",
    "plt.title('Model Precision Comparison')\n",
    "plt.xlabel('Model')\n",
    "plt.ylabel('Precision')\n",
    "plt.xticks(rotation='vertical')  # Rotate x-axis labels vertically\n",
    "plt.show()"
   ]
  }
 ],
 "metadata": {
  "kernelspec": {
   "display_name": "Python 3 (ipykernel)",
   "language": "python",
   "name": "python3"
  },
  "language_info": {
   "codemirror_mode": {
    "name": "ipython",
    "version": 3
   },
   "file_extension": ".py",
   "mimetype": "text/x-python",
   "name": "python",
   "nbconvert_exporter": "python",
   "pygments_lexer": "ipython3",
   "version": "3.9.13"
  }
 },
 "nbformat": 4,
 "nbformat_minor": 5
}
